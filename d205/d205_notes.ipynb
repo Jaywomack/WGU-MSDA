{
 "cells": [
  {
   "cell_type": "markdown",
   "metadata": {},
   "source": [
    "# Understanding and Describing Data"
   ]
  },
  {
   "cell_type": "markdown",
   "metadata": {
    "heading_collapsed": true
   },
   "source": [
    "## Intro"
   ]
  },
  {
   "cell_type": "markdown",
   "metadata": {},
   "source": [
    "## The World of Data\n",
    "**Quantitative data** can be described as data that is represented by a number.\n",
    "\n",
    "**Qualitative data** is descriptive and often in the form of a descriptor as in male, female, smoker, non-smoker etc. Qualitative data is often categorical. \n",
    "\n",
    "**Discrete Data** is exact and can not be adapted to be more precise.\n",
    "\n",
    "**Continuous Data** Is data that could be adapted to be more precise. Such as body mass. 85 kilo, 85.5 kilo, 85.56778 kilo all are different levels of precision\n",
    "\n",
    "**Descriptive statistics** are used to describe data.\n",
    "\n",
    "**Univariate analysis** is the use of descriptive statistics on a single variable\n",
    "\n",
    "**Multivariate analysis** is the use of descriptive statistics on multiple variable\n",
    "\n",
    "**Inferential statistics** thinks of datasets as a sample or small portion of a larger population. Inferential statistics seeks to describe the larger population by understanding the properties of the sample."
   ]
  },
  {
   "cell_type": "markdown",
   "metadata": {},
   "source": [
    "## Methods of Descriptive Statistics\n",
    "\n",
    "**Data Frequency Distribution** The distribution of data is simply a count of the number of values that are in a dataset. If we look at the dataset and find that 700 people have brown eyes, 200 people have green eyes, and 100 people have blue eyes, then we have just described the distribution of the dataset.\n",
    "\n",
    "**Normal distribution** Is commonly found shape that is similar to a bell shaped curl\n",
    "**Quantiles** Are a set of quantiles that are cut points in the data.\n",
    "Common cut points are as follows:\n",
    "\n",
    "- 3\tTerciles\n",
    "- 4\tQuartiles\n",
    "- 5\tQuintiles\n",
    "- 10\tDeciles\n",
    "- 20\tVentiles\n",
    "- 100\tPercentiles\n",
    "****"
   ]
  },
  {
   "cell_type": "markdown",
   "metadata": {},
   "source": [
    "How many lines of output are produced by the copy command?"
   ]
  },
  {
   "cell_type": "markdown",
   "metadata": {},
   "source": [
    "\n",
    "Which database component enforces data consistency rules across tables? referential integrity<<??"
   ]
  },
  {
   "cell_type": "markdown",
   "metadata": {},
   "source": [
    "INSERT INTO table(make,model,year) SELECT * FROM garage WHERE make = 'Alfa Romeo'\n",
    "WRITE CODE:The for_sale table structure is same as the garage table. You have to copy all of the \"Alfa Romeo\" cars from the garage table to the for_sale table."
   ]
  },
  {
   "cell_type": "markdown",
   "metadata": {},
   "source": [
    "didnt know this line\n",
    "SELECT setval('restaurants_id_seq', (SELECT MAX(id) FROM Restaurants)+1);\n",
    "\n",
    "INSERT INTO Restaurants\n",
    "(Name, Description, RestaurantType) VALUES ('Sarahs Salad Shack', 'Fresh salads made to order', 3);"
   ]
  },
  {
   "cell_type": "markdown",
   "metadata": {},
   "source": [
    "Which type of join will return the Cartesian product of the tables?"
   ]
  },
  {
   "cell_type": "markdown",
   "metadata": {},
   "source": [
    "Which type of join will return the intersection of data from both tables only when the join condition is met?"
   ]
  },
  {
   "cell_type": "markdown",
   "metadata": {},
   "source": [
    "learn how to query multiple tables and join them"
   ]
  },
  {
   "cell_type": "markdown",
   "metadata": {},
   "source": [
    "Figure out how to do this:\n",
    "Which table is the largest in the DVD store database?"
   ]
  },
  {
   "cell_type": "markdown",
   "metadata": {},
   "source": [
    "Which command is used to save a transaction temporarily and allow it to be easily rolled back to a previously stored state?"
   ]
  },
  {
   "cell_type": "code",
   "execution_count": null,
   "metadata": {},
   "outputs": [],
   "source": []
  },
  {
   "cell_type": "code",
   "execution_count": null,
   "metadata": {},
   "outputs": [],
   "source": []
  }
 ],
 "metadata": {
  "kernelspec": {
   "display_name": "Python 3",
   "language": "python",
   "name": "python3"
  },
  "language_info": {
   "codemirror_mode": {
    "name": "ipython",
    "version": 3
   },
   "file_extension": ".py",
   "mimetype": "text/x-python",
   "name": "python",
   "nbconvert_exporter": "python",
   "pygments_lexer": "ipython3",
   "version": "3.8.3"
  },
  "toc": {
   "base_numbering": 1,
   "nav_menu": {},
   "number_sections": true,
   "sideBar": true,
   "skip_h1_title": false,
   "title_cell": "Table of Contents",
   "title_sidebar": "Contents",
   "toc_cell": false,
   "toc_position": {},
   "toc_section_display": true,
   "toc_window_display": true
  }
 },
 "nbformat": 4,
 "nbformat_minor": 4
}
