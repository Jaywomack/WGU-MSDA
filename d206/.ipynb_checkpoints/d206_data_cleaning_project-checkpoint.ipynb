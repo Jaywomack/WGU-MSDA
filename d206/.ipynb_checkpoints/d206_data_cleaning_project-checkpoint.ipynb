{
 "cells": [
  {
   "cell_type": "markdown",
   "metadata": {},
   "source": [
    "<img hfre>"
   ]
  },
  {
   "cell_type": "markdown",
   "metadata": {},
   "source": [
    "# Data Dictionary\n",
    "**Churn** = dict_churn_categories_numeric = {'Churn':{'No':0,'Yes':1}}\n",
    "<br>\n",
    "<br>\n",
    "**Area** = dict_area_categories_numeric = {\"Area\":{'Urban':0, 'Suburban':1, 'Rural':2}}\n",
    "<br>\n",
    "<br>\n",
    "**Education** = dict_education_categories_numeric = {'Education': {\n",
    "    'Doctorate Degree':22,\n",
    "    \"Master's Degree\":19,\n",
    "    \"Bachelor's Degree\":16,\n",
    "    \"Associate's Degree\":14, \n",
    "    'Some College, 1 or More Years, No Degree':13,\n",
    "    'Some College, Less than 1 Year':13,\n",
    "    'Professional School Degree':12, \n",
    "    'Regular High School Diploma':12,\n",
    "    'GED or Alternative Credential':10,\n",
    "    '9th Grade to 12th Grade, No Diploma':10,\n",
    "    'Nursery School to 8th Grade':8,\n",
    "    'No Schooling Completed':0, \n",
    "}}\n",
    "<br>\n",
    "<br>\n",
    "**Marital** = dict_marital_categories_numeric = {'Marital':{\n",
    "    'Never Married':0,\n",
    "    'Married':1,\n",
    "    'Widowed':2,\n",
    "    'Separated':3,\n",
    "    'Divorced':4}}    \n",
    "<br>\n",
    "<br>\n",
    "**Contract** = dict_contract_categories_numeric = {'Contract': {'Month-to-month':0,'One year':1, 'Two Year':2}}\n",
    "**Techie** = dict_techie_categories_numeric = {'Techie': {'No':0,'Yes':1,'unknown':2}}<br><br>\n",
    "**Port_modem** = dict_port_modem_categories_numeric = {'Port_modem':{'No':0,'Yes':1}}<br><br>\n",
    "**Tablet** = dict_tablet_categories_numeric = {'Tablet': {'No':0,'Yes':1}}<br><br>\n",
    "**InternetService** = dict_internet_service_categories_numeric = {'InternetService': {'Fiber Optic':2, 'DSL':1, 'None':0}}<br><br>\n",
    "**Phone** = dict_phone_categories_numeric = {'Phone':{'No':0, 'Yes':1, 'unknown':2}}<br><br>\n",
    "**Multiple** = dict_multiple_categories_numeric = {'Multiple':{'No':0, 'Yes':1}}<br><br>\n",
    "**OnlineSecurity** = dict_online_security_categories_numeric = {'OnlineSecurity':{'No':0,'Yes':1}}<br><br>\n",
    "**DeviceProtection** = dict_online_backup_categories_numeric = {'OnlineBackup':{'No':0,'Yes':1}}<br><br>\n",
    "**DeviceProtection** = dict_device_protection_categories_numeric = {'DeviceProtection':{'No':0,'Yes':1}}<br><br>\n",
    "**TechSupport** = dict_tech_support_categories_numeric = {'TechSupport':{'No':0, 'Yes':1, 'unknown':2}}<br><br>\n",
    "**StreamingTV** = dict_streamingtv_categories_numeric = {'StreamingTV':{'No':0, 'Yes':1}}<br><br>\n",
    "**StreamingTV** = dict_streamingtv_categories_numeric = {'StreamingTV':{'No':0, 'Yes':1}}<br><br>\n",
    "**StreamingMovies** = dict_streaming_movies_categories_numeric = {'StreamingMovies':{'No':0, 'Yes':1}}<br><br>\n",
    "**PaperlessBilling** = dict_paperless_billing_categories_numeric = {'PaperlessBilling':{'No':0, 'Yes':1}}<br><br>"
   ]
  },
  {
   "cell_type": "markdown",
   "metadata": {},
   "source": [
    "# Part I: Research Question\n",
    "<br><br>"
   ]
  },
  {
   "cell_type": "markdown",
   "metadata": {},
   "source": [
    "## A.  Describe one question or decision that you will address using the data set you chose. The summarized question or decision must be relevant to a realistic organizational need or situation.\n",
    "<br><br>\n",
    "### **How do we identify customers that might churn?**\n",
    "<br><br>\n"
   ]
  },
  {
   "cell_type": "markdown",
   "metadata": {},
   "source": [
    "## B.  Describe the variables in the data set and indicate the specific type of data being described. Use examples from the data set that support your claims.\n",
    "<br><br>"
   ]
  },
  {
   "cell_type": "code",
   "execution_count": 693,
   "metadata": {},
   "outputs": [],
   "source": [
    "import pandas as pd\n",
    "import numpy as np\n",
    "import matplotlib.pyplot as plt\n",
    "import seaborn as sns\n",
    "\n",
    "\n",
    "\n",
    "%matplotlib inline\n",
    "# %matplotlib notebook"
   ]
  },
  {
   "cell_type": "code",
   "execution_count": 694,
   "metadata": {},
   "outputs": [],
   "source": [
    "df = pd.read_csv('churn_raw_data.csv')"
   ]
  },
  {
   "cell_type": "code",
   "execution_count": 695,
   "metadata": {},
   "outputs": [
    {
     "data": {
      "text/html": [
       "<div>\n",
       "<style scoped>\n",
       "    .dataframe tbody tr th:only-of-type {\n",
       "        vertical-align: middle;\n",
       "    }\n",
       "\n",
       "    .dataframe tbody tr th {\n",
       "        vertical-align: top;\n",
       "    }\n",
       "\n",
       "    .dataframe thead th {\n",
       "        text-align: right;\n",
       "    }\n",
       "</style>\n",
       "<table border=\"1\" class=\"dataframe\">\n",
       "  <thead>\n",
       "    <tr style=\"text-align: right;\">\n",
       "      <th></th>\n",
       "      <th>Unnamed: 0</th>\n",
       "      <th>CaseOrder</th>\n",
       "      <th>Customer_id</th>\n",
       "      <th>Interaction</th>\n",
       "      <th>City</th>\n",
       "      <th>State</th>\n",
       "      <th>County</th>\n",
       "      <th>Zip</th>\n",
       "      <th>Lat</th>\n",
       "      <th>Lng</th>\n",
       "      <th>Population</th>\n",
       "      <th>Area</th>\n",
       "      <th>Timezone</th>\n",
       "      <th>Job</th>\n",
       "      <th>Children</th>\n",
       "      <th>Age</th>\n",
       "      <th>Education</th>\n",
       "      <th>Employment</th>\n",
       "      <th>Income</th>\n",
       "      <th>Marital</th>\n",
       "      <th>Gender</th>\n",
       "      <th>Churn</th>\n",
       "      <th>Outage_sec_perweek</th>\n",
       "      <th>Email</th>\n",
       "      <th>Contacts</th>\n",
       "      <th>Yearly_equip_failure</th>\n",
       "      <th>Techie</th>\n",
       "      <th>Contract</th>\n",
       "      <th>Port_modem</th>\n",
       "      <th>Tablet</th>\n",
       "      <th>InternetService</th>\n",
       "      <th>Phone</th>\n",
       "      <th>Multiple</th>\n",
       "      <th>OnlineSecurity</th>\n",
       "      <th>OnlineBackup</th>\n",
       "      <th>DeviceProtection</th>\n",
       "      <th>TechSupport</th>\n",
       "      <th>StreamingTV</th>\n",
       "      <th>StreamingMovies</th>\n",
       "      <th>PaperlessBilling</th>\n",
       "      <th>PaymentMethod</th>\n",
       "      <th>Tenure</th>\n",
       "      <th>MonthlyCharge</th>\n",
       "      <th>Bandwidth_GB_Year</th>\n",
       "      <th>item1</th>\n",
       "      <th>item2</th>\n",
       "      <th>item3</th>\n",
       "      <th>item4</th>\n",
       "      <th>item5</th>\n",
       "      <th>item6</th>\n",
       "      <th>item7</th>\n",
       "      <th>item8</th>\n",
       "    </tr>\n",
       "  </thead>\n",
       "  <tbody>\n",
       "    <tr>\n",
       "      <th>0</th>\n",
       "      <td>1</td>\n",
       "      <td>1</td>\n",
       "      <td>K409198</td>\n",
       "      <td>aa90260b-4141-4a24-8e36-b04ce1f4f77b</td>\n",
       "      <td>Point Baker</td>\n",
       "      <td>AK</td>\n",
       "      <td>Prince of Wales-Hyder</td>\n",
       "      <td>99927</td>\n",
       "      <td>56.25100</td>\n",
       "      <td>-133.37571</td>\n",
       "      <td>38</td>\n",
       "      <td>Urban</td>\n",
       "      <td>America/Sitka</td>\n",
       "      <td>Environmental health practitioner</td>\n",
       "      <td>NaN</td>\n",
       "      <td>68.0</td>\n",
       "      <td>Master's Degree</td>\n",
       "      <td>Part Time</td>\n",
       "      <td>28561.99</td>\n",
       "      <td>Widowed</td>\n",
       "      <td>Male</td>\n",
       "      <td>No</td>\n",
       "      <td>6.972566</td>\n",
       "      <td>10</td>\n",
       "      <td>0</td>\n",
       "      <td>1</td>\n",
       "      <td>No</td>\n",
       "      <td>One year</td>\n",
       "      <td>Yes</td>\n",
       "      <td>Yes</td>\n",
       "      <td>Fiber Optic</td>\n",
       "      <td>Yes</td>\n",
       "      <td>No</td>\n",
       "      <td>Yes</td>\n",
       "      <td>Yes</td>\n",
       "      <td>No</td>\n",
       "      <td>No</td>\n",
       "      <td>No</td>\n",
       "      <td>Yes</td>\n",
       "      <td>Yes</td>\n",
       "      <td>Credit Card (automatic)</td>\n",
       "      <td>6.795513</td>\n",
       "      <td>171.449762</td>\n",
       "      <td>904.536110</td>\n",
       "      <td>5</td>\n",
       "      <td>5</td>\n",
       "      <td>5</td>\n",
       "      <td>3</td>\n",
       "      <td>4</td>\n",
       "      <td>4</td>\n",
       "      <td>3</td>\n",
       "      <td>4</td>\n",
       "    </tr>\n",
       "    <tr>\n",
       "      <th>1</th>\n",
       "      <td>2</td>\n",
       "      <td>2</td>\n",
       "      <td>S120509</td>\n",
       "      <td>fb76459f-c047-4a9d-8af9-e0f7d4ac2524</td>\n",
       "      <td>West Branch</td>\n",
       "      <td>MI</td>\n",
       "      <td>Ogemaw</td>\n",
       "      <td>48661</td>\n",
       "      <td>44.32893</td>\n",
       "      <td>-84.24080</td>\n",
       "      <td>10446</td>\n",
       "      <td>Urban</td>\n",
       "      <td>America/Detroit</td>\n",
       "      <td>Programmer, multimedia</td>\n",
       "      <td>1.0</td>\n",
       "      <td>27.0</td>\n",
       "      <td>Regular High School Diploma</td>\n",
       "      <td>Retired</td>\n",
       "      <td>21704.77</td>\n",
       "      <td>Married</td>\n",
       "      <td>Female</td>\n",
       "      <td>Yes</td>\n",
       "      <td>12.014541</td>\n",
       "      <td>12</td>\n",
       "      <td>0</td>\n",
       "      <td>1</td>\n",
       "      <td>Yes</td>\n",
       "      <td>Month-to-month</td>\n",
       "      <td>No</td>\n",
       "      <td>Yes</td>\n",
       "      <td>Fiber Optic</td>\n",
       "      <td>Yes</td>\n",
       "      <td>Yes</td>\n",
       "      <td>Yes</td>\n",
       "      <td>No</td>\n",
       "      <td>No</td>\n",
       "      <td>No</td>\n",
       "      <td>Yes</td>\n",
       "      <td>Yes</td>\n",
       "      <td>Yes</td>\n",
       "      <td>Bank Transfer(automatic)</td>\n",
       "      <td>1.156681</td>\n",
       "      <td>242.948015</td>\n",
       "      <td>800.982766</td>\n",
       "      <td>3</td>\n",
       "      <td>4</td>\n",
       "      <td>3</td>\n",
       "      <td>3</td>\n",
       "      <td>4</td>\n",
       "      <td>3</td>\n",
       "      <td>4</td>\n",
       "      <td>4</td>\n",
       "    </tr>\n",
       "    <tr>\n",
       "      <th>2</th>\n",
       "      <td>3</td>\n",
       "      <td>3</td>\n",
       "      <td>K191035</td>\n",
       "      <td>344d114c-3736-4be5-98f7-c72c281e2d35</td>\n",
       "      <td>Yamhill</td>\n",
       "      <td>OR</td>\n",
       "      <td>Yamhill</td>\n",
       "      <td>97148</td>\n",
       "      <td>45.35589</td>\n",
       "      <td>-123.24657</td>\n",
       "      <td>3735</td>\n",
       "      <td>Urban</td>\n",
       "      <td>America/Los_Angeles</td>\n",
       "      <td>Chief Financial Officer</td>\n",
       "      <td>4.0</td>\n",
       "      <td>50.0</td>\n",
       "      <td>Regular High School Diploma</td>\n",
       "      <td>Student</td>\n",
       "      <td>NaN</td>\n",
       "      <td>Widowed</td>\n",
       "      <td>Female</td>\n",
       "      <td>No</td>\n",
       "      <td>10.245616</td>\n",
       "      <td>9</td>\n",
       "      <td>0</td>\n",
       "      <td>1</td>\n",
       "      <td>Yes</td>\n",
       "      <td>Two Year</td>\n",
       "      <td>Yes</td>\n",
       "      <td>No</td>\n",
       "      <td>DSL</td>\n",
       "      <td>Yes</td>\n",
       "      <td>Yes</td>\n",
       "      <td>No</td>\n",
       "      <td>No</td>\n",
       "      <td>No</td>\n",
       "      <td>No</td>\n",
       "      <td>No</td>\n",
       "      <td>Yes</td>\n",
       "      <td>Yes</td>\n",
       "      <td>Credit Card (automatic)</td>\n",
       "      <td>15.754144</td>\n",
       "      <td>159.440398</td>\n",
       "      <td>2054.706961</td>\n",
       "      <td>4</td>\n",
       "      <td>4</td>\n",
       "      <td>2</td>\n",
       "      <td>4</td>\n",
       "      <td>4</td>\n",
       "      <td>3</td>\n",
       "      <td>3</td>\n",
       "      <td>3</td>\n",
       "    </tr>\n",
       "    <tr>\n",
       "      <th>3</th>\n",
       "      <td>4</td>\n",
       "      <td>4</td>\n",
       "      <td>D90850</td>\n",
       "      <td>abfa2b40-2d43-4994-b15a-989b8c79e311</td>\n",
       "      <td>Del Mar</td>\n",
       "      <td>CA</td>\n",
       "      <td>San Diego</td>\n",
       "      <td>92014</td>\n",
       "      <td>32.96687</td>\n",
       "      <td>-117.24798</td>\n",
       "      <td>13863</td>\n",
       "      <td>Suburban</td>\n",
       "      <td>America/Los_Angeles</td>\n",
       "      <td>Solicitor</td>\n",
       "      <td>1.0</td>\n",
       "      <td>48.0</td>\n",
       "      <td>Doctorate Degree</td>\n",
       "      <td>Retired</td>\n",
       "      <td>18925.23</td>\n",
       "      <td>Married</td>\n",
       "      <td>Male</td>\n",
       "      <td>No</td>\n",
       "      <td>15.206193</td>\n",
       "      <td>15</td>\n",
       "      <td>2</td>\n",
       "      <td>0</td>\n",
       "      <td>Yes</td>\n",
       "      <td>Two Year</td>\n",
       "      <td>No</td>\n",
       "      <td>No</td>\n",
       "      <td>DSL</td>\n",
       "      <td>Yes</td>\n",
       "      <td>No</td>\n",
       "      <td>Yes</td>\n",
       "      <td>No</td>\n",
       "      <td>No</td>\n",
       "      <td>No</td>\n",
       "      <td>Yes</td>\n",
       "      <td>No</td>\n",
       "      <td>Yes</td>\n",
       "      <td>Mailed Check</td>\n",
       "      <td>17.087227</td>\n",
       "      <td>120.249493</td>\n",
       "      <td>2164.579412</td>\n",
       "      <td>4</td>\n",
       "      <td>4</td>\n",
       "      <td>4</td>\n",
       "      <td>2</td>\n",
       "      <td>5</td>\n",
       "      <td>4</td>\n",
       "      <td>3</td>\n",
       "      <td>3</td>\n",
       "    </tr>\n",
       "    <tr>\n",
       "      <th>4</th>\n",
       "      <td>5</td>\n",
       "      <td>5</td>\n",
       "      <td>K662701</td>\n",
       "      <td>68a861fd-0d20-4e51-a587-8a90407ee574</td>\n",
       "      <td>Needville</td>\n",
       "      <td>TX</td>\n",
       "      <td>Fort Bend</td>\n",
       "      <td>77461</td>\n",
       "      <td>29.38012</td>\n",
       "      <td>-95.80673</td>\n",
       "      <td>11352</td>\n",
       "      <td>Suburban</td>\n",
       "      <td>America/Chicago</td>\n",
       "      <td>Medical illustrator</td>\n",
       "      <td>0.0</td>\n",
       "      <td>83.0</td>\n",
       "      <td>Master's Degree</td>\n",
       "      <td>Student</td>\n",
       "      <td>40074.19</td>\n",
       "      <td>Separated</td>\n",
       "      <td>Male</td>\n",
       "      <td>Yes</td>\n",
       "      <td>8.960316</td>\n",
       "      <td>16</td>\n",
       "      <td>2</td>\n",
       "      <td>1</td>\n",
       "      <td>No</td>\n",
       "      <td>Month-to-month</td>\n",
       "      <td>Yes</td>\n",
       "      <td>No</td>\n",
       "      <td>Fiber Optic</td>\n",
       "      <td>No</td>\n",
       "      <td>No</td>\n",
       "      <td>No</td>\n",
       "      <td>No</td>\n",
       "      <td>No</td>\n",
       "      <td>Yes</td>\n",
       "      <td>Yes</td>\n",
       "      <td>No</td>\n",
       "      <td>No</td>\n",
       "      <td>Mailed Check</td>\n",
       "      <td>1.670972</td>\n",
       "      <td>150.761216</td>\n",
       "      <td>271.493436</td>\n",
       "      <td>4</td>\n",
       "      <td>4</td>\n",
       "      <td>4</td>\n",
       "      <td>3</td>\n",
       "      <td>4</td>\n",
       "      <td>4</td>\n",
       "      <td>4</td>\n",
       "      <td>5</td>\n",
       "    </tr>\n",
       "  </tbody>\n",
       "</table>\n",
       "</div>"
      ],
      "text/plain": [
       "   Unnamed: 0  CaseOrder Customer_id                           Interaction  \\\n",
       "0           1          1     K409198  aa90260b-4141-4a24-8e36-b04ce1f4f77b   \n",
       "1           2          2     S120509  fb76459f-c047-4a9d-8af9-e0f7d4ac2524   \n",
       "2           3          3     K191035  344d114c-3736-4be5-98f7-c72c281e2d35   \n",
       "3           4          4      D90850  abfa2b40-2d43-4994-b15a-989b8c79e311   \n",
       "4           5          5     K662701  68a861fd-0d20-4e51-a587-8a90407ee574   \n",
       "\n",
       "          City State                 County    Zip       Lat        Lng  \\\n",
       "0  Point Baker    AK  Prince of Wales-Hyder  99927  56.25100 -133.37571   \n",
       "1  West Branch    MI                 Ogemaw  48661  44.32893  -84.24080   \n",
       "2      Yamhill    OR                Yamhill  97148  45.35589 -123.24657   \n",
       "3      Del Mar    CA              San Diego  92014  32.96687 -117.24798   \n",
       "4    Needville    TX              Fort Bend  77461  29.38012  -95.80673   \n",
       "\n",
       "   Population      Area             Timezone  \\\n",
       "0          38     Urban        America/Sitka   \n",
       "1       10446     Urban      America/Detroit   \n",
       "2        3735     Urban  America/Los_Angeles   \n",
       "3       13863  Suburban  America/Los_Angeles   \n",
       "4       11352  Suburban      America/Chicago   \n",
       "\n",
       "                                 Job  Children   Age  \\\n",
       "0  Environmental health practitioner       NaN  68.0   \n",
       "1             Programmer, multimedia       1.0  27.0   \n",
       "2            Chief Financial Officer       4.0  50.0   \n",
       "3                          Solicitor       1.0  48.0   \n",
       "4                Medical illustrator       0.0  83.0   \n",
       "\n",
       "                     Education Employment    Income    Marital  Gender Churn  \\\n",
       "0              Master's Degree  Part Time  28561.99    Widowed    Male    No   \n",
       "1  Regular High School Diploma    Retired  21704.77    Married  Female   Yes   \n",
       "2  Regular High School Diploma    Student       NaN    Widowed  Female    No   \n",
       "3             Doctorate Degree    Retired  18925.23    Married    Male    No   \n",
       "4              Master's Degree    Student  40074.19  Separated    Male   Yes   \n",
       "\n",
       "   Outage_sec_perweek  Email  Contacts  Yearly_equip_failure Techie  \\\n",
       "0            6.972566     10         0                     1     No   \n",
       "1           12.014541     12         0                     1    Yes   \n",
       "2           10.245616      9         0                     1    Yes   \n",
       "3           15.206193     15         2                     0    Yes   \n",
       "4            8.960316     16         2                     1     No   \n",
       "\n",
       "         Contract Port_modem Tablet InternetService Phone Multiple  \\\n",
       "0        One year        Yes    Yes     Fiber Optic   Yes       No   \n",
       "1  Month-to-month         No    Yes     Fiber Optic   Yes      Yes   \n",
       "2        Two Year        Yes     No             DSL   Yes      Yes   \n",
       "3        Two Year         No     No             DSL   Yes       No   \n",
       "4  Month-to-month        Yes     No     Fiber Optic    No       No   \n",
       "\n",
       "  OnlineSecurity OnlineBackup DeviceProtection TechSupport StreamingTV  \\\n",
       "0            Yes          Yes               No          No          No   \n",
       "1            Yes           No               No          No         Yes   \n",
       "2             No           No               No          No          No   \n",
       "3            Yes           No               No          No         Yes   \n",
       "4             No           No               No         Yes         Yes   \n",
       "\n",
       "  StreamingMovies PaperlessBilling             PaymentMethod     Tenure  \\\n",
       "0             Yes              Yes   Credit Card (automatic)   6.795513   \n",
       "1             Yes              Yes  Bank Transfer(automatic)   1.156681   \n",
       "2             Yes              Yes   Credit Card (automatic)  15.754144   \n",
       "3              No              Yes              Mailed Check  17.087227   \n",
       "4              No               No              Mailed Check   1.670972   \n",
       "\n",
       "   MonthlyCharge  Bandwidth_GB_Year  item1  item2  item3  item4  item5  item6  \\\n",
       "0     171.449762         904.536110      5      5      5      3      4      4   \n",
       "1     242.948015         800.982766      3      4      3      3      4      3   \n",
       "2     159.440398        2054.706961      4      4      2      4      4      3   \n",
       "3     120.249493        2164.579412      4      4      4      2      5      4   \n",
       "4     150.761216         271.493436      4      4      4      3      4      4   \n",
       "\n",
       "   item7  item8  \n",
       "0      3      4  \n",
       "1      4      4  \n",
       "2      3      3  \n",
       "3      3      3  \n",
       "4      4      5  "
      ]
     },
     "execution_count": 695,
     "metadata": {},
     "output_type": "execute_result"
    }
   ],
   "source": [
    "df.head()"
   ]
  },
  {
   "cell_type": "code",
   "execution_count": 696,
   "metadata": {},
   "outputs": [
    {
     "data": {
      "text/plain": [
       "(10000, 52)"
      ]
     },
     "execution_count": 696,
     "metadata": {},
     "output_type": "execute_result"
    }
   ],
   "source": [
    "df.shape"
   ]
  },
  {
   "cell_type": "code",
   "execution_count": 697,
   "metadata": {},
   "outputs": [
    {
     "data": {
      "text/plain": [
       "Index(['Unnamed: 0', 'CaseOrder', 'Customer_id', 'Interaction', 'City',\n",
       "       'State', 'County', 'Zip', 'Lat', 'Lng', 'Population', 'Area',\n",
       "       'Timezone', 'Job', 'Children', 'Age', 'Education', 'Employment',\n",
       "       'Income', 'Marital', 'Gender', 'Churn', 'Outage_sec_perweek', 'Email',\n",
       "       'Contacts', 'Yearly_equip_failure', 'Techie', 'Contract', 'Port_modem',\n",
       "       'Tablet', 'InternetService', 'Phone', 'Multiple', 'OnlineSecurity',\n",
       "       'OnlineBackup', 'DeviceProtection', 'TechSupport', 'StreamingTV',\n",
       "       'StreamingMovies', 'PaperlessBilling', 'PaymentMethod', 'Tenure',\n",
       "       'MonthlyCharge', 'Bandwidth_GB_Year', 'item1', 'item2', 'item3',\n",
       "       'item4', 'item5', 'item6', 'item7', 'item8'],\n",
       "      dtype='object')"
      ]
     },
     "execution_count": 697,
     "metadata": {},
     "output_type": "execute_result"
    }
   ],
   "source": [
    "df.columns"
   ]
  },
  {
   "cell_type": "code",
   "execution_count": null,
   "metadata": {},
   "outputs": [],
   "source": []
  },
  {
   "cell_type": "code",
   "execution_count": 698,
   "metadata": {},
   "outputs": [
    {
     "name": "stdout",
     "output_type": "stream",
     "text": [
      "      Unnamed: 0  CaseOrder Customer_id                           Interaction  \\\n",
      "0              1          1     K409198  aa90260b-4141-4a24-8e36-b04ce1f4f77b   \n",
      "1              2          2     S120509  fb76459f-c047-4a9d-8af9-e0f7d4ac2524   \n",
      "2              3          3     K191035  344d114c-3736-4be5-98f7-c72c281e2d35   \n",
      "3              4          4      D90850  abfa2b40-2d43-4994-b15a-989b8c79e311   \n",
      "4              5          5     K662701  68a861fd-0d20-4e51-a587-8a90407ee574   \n",
      "...          ...        ...         ...                                   ...   \n",
      "9995        9996       9996     M324793  45deb5a2-ae04-4518-bf0b-c82db8dbe4a4   \n",
      "9996        9997       9997     D861732  6e96b921-0c09-4993-bbda-a1ac6411061a   \n",
      "9997        9998       9998     I243405  e8307ddf-9a01-4fff-bc59-4742e03fd24f   \n",
      "9998        9999       9999     I641617  3775ccfc-0052-4107-81ae-9657f81ecdf3   \n",
      "9999       10000      10000      T38070  9de5fb6e-bd33-4995-aec8-f01d0172a499   \n",
      "\n",
      "              City State                 County    Zip       Lat        Lng  \\\n",
      "0      Point Baker    AK  Prince of Wales-Hyder  99927  56.25100 -133.37571   \n",
      "1      West Branch    MI                 Ogemaw  48661  44.32893  -84.24080   \n",
      "2          Yamhill    OR                Yamhill  97148  45.35589 -123.24657   \n",
      "3          Del Mar    CA              San Diego  92014  32.96687 -117.24798   \n",
      "4        Needville    TX              Fort Bend  77461  29.38012  -95.80673   \n",
      "...            ...   ...                    ...    ...       ...        ...   \n",
      "9995   Mount Holly    VT                Rutland   5758  43.43391  -72.78734   \n",
      "9996   Clarksville    TN             Montgomery  37042  36.56907  -87.41694   \n",
      "9997      Mobeetie    TX                Wheeler  79061  35.52039 -100.44180   \n",
      "9998    Carrollton    GA                Carroll  30117  33.58016  -85.13241   \n",
      "9999  Clarkesville    GA              Habersham  30523  34.70783  -83.53648   \n",
      "\n",
      "      Population      Area             Timezone  \\\n",
      "0             38     Urban        America/Sitka   \n",
      "1          10446     Urban      America/Detroit   \n",
      "2           3735     Urban  America/Los_Angeles   \n",
      "3          13863  Suburban  America/Los_Angeles   \n",
      "4          11352  Suburban      America/Chicago   \n",
      "...          ...       ...                  ...   \n",
      "9995         640     Rural     America/New_York   \n",
      "9996       77168     Rural      America/Chicago   \n",
      "9997         406     Rural      America/Chicago   \n",
      "9998       35575     Urban     America/New_York   \n",
      "9999       12230     Urban     America/New_York   \n",
      "\n",
      "                                    Job  Children   Age  \\\n",
      "0     Environmental health practitioner       NaN  68.0   \n",
      "1                Programmer, multimedia       1.0  27.0   \n",
      "2               Chief Financial Officer       4.0  50.0   \n",
      "3                             Solicitor       1.0  48.0   \n",
      "4                   Medical illustrator       0.0  83.0   \n",
      "...                                 ...       ...   ...   \n",
      "9995    Sport and exercise psychologist       3.0   NaN   \n",
      "9996          Consulting civil engineer       4.0  48.0   \n",
      "9997       IT technical support officer       NaN   NaN   \n",
      "9998                     Water engineer       1.0  39.0   \n",
      "9999                 Personal assistant       1.0  28.0   \n",
      "\n",
      "                           Education Employment    Income        Marital  \\\n",
      "0                    Master's Degree  Part Time  28561.99        Widowed   \n",
      "1        Regular High School Diploma    Retired  21704.77        Married   \n",
      "2        Regular High School Diploma    Student       NaN        Widowed   \n",
      "3                   Doctorate Degree    Retired  18925.23        Married   \n",
      "4                    Master's Degree    Student  40074.19      Separated   \n",
      "...                              ...        ...       ...            ...   \n",
      "9995  Some College, Less than 1 Year    Retired  55723.74        Married   \n",
      "9996     Regular High School Diploma  Part Time       NaN       Divorced   \n",
      "9997     Nursery School to 8th Grade  Full Time       NaN  Never Married   \n",
      "9998               Bachelor's Degree  Full Time  16667.58      Separated   \n",
      "9999   GED or Alternative Credential  Full Time       NaN  Never Married   \n",
      "\n",
      "      Gender Churn  Outage_sec_perweek  Email  Contacts  Yearly_equip_failure  \\\n",
      "0       Male    No            6.972566     10         0                     1   \n",
      "1     Female   Yes           12.014541     12         0                     1   \n",
      "2     Female    No           10.245616      9         0                     1   \n",
      "3       Male    No           15.206193     15         2                     0   \n",
      "4       Male   Yes            8.960316     16         2                     1   \n",
      "...      ...   ...                 ...    ...       ...                   ...   \n",
      "9995    Male    No            9.265392     12         2                     0   \n",
      "9996    Male    No            8.115849     15         2                     0   \n",
      "9997  Female    No            4.837696     10         0                     0   \n",
      "9998    Male    No           12.076460     14         1                     0   \n",
      "9999    Male    No           12.641760     17         1                     0   \n",
      "\n",
      "     Techie        Contract Port_modem Tablet InternetService Phone Multiple  \\\n",
      "0        No        One year        Yes    Yes     Fiber Optic   Yes       No   \n",
      "1       Yes  Month-to-month         No    Yes     Fiber Optic   Yes      Yes   \n",
      "2       Yes        Two Year        Yes     No             DSL   Yes      Yes   \n",
      "3       Yes        Two Year         No     No             DSL   Yes       No   \n",
      "4        No  Month-to-month        Yes     No     Fiber Optic    No       No   \n",
      "...     ...             ...        ...    ...             ...   ...      ...   \n",
      "9995    NaN  Month-to-month        Yes    Yes             DSL   NaN      Yes   \n",
      "9996    NaN        Two Year         No     No     Fiber Optic   NaN      Yes   \n",
      "9997     No  Month-to-month         No     No     Fiber Optic   Yes      Yes   \n",
      "9998     No        Two Year         No    Yes     Fiber Optic    No      Yes   \n",
      "9999    NaN  Month-to-month        Yes     No     Fiber Optic   Yes      Yes   \n",
      "\n",
      "     OnlineSecurity OnlineBackup DeviceProtection TechSupport StreamingTV  \\\n",
      "0               Yes          Yes               No          No          No   \n",
      "1               Yes           No               No          No         Yes   \n",
      "2                No           No               No          No          No   \n",
      "3               Yes           No               No          No         Yes   \n",
      "4                No           No               No         Yes         Yes   \n",
      "...             ...          ...              ...         ...         ...   \n",
      "9995             No          Yes              Yes          No          No   \n",
      "9996            Yes          Yes              Yes          No         Yes   \n",
      "9997            Yes          Yes               No          No          No   \n",
      "9998             No           No               No         Yes         Yes   \n",
      "9999            Yes          Yes              Yes          No          No   \n",
      "\n",
      "     StreamingMovies PaperlessBilling             PaymentMethod     Tenure  \\\n",
      "0                Yes              Yes   Credit Card (automatic)   6.795513   \n",
      "1                Yes              Yes  Bank Transfer(automatic)   1.156681   \n",
      "2                Yes              Yes   Credit Card (automatic)  15.754144   \n",
      "3                 No              Yes              Mailed Check  17.087227   \n",
      "4                 No               No              Mailed Check   1.670972   \n",
      "...              ...              ...                       ...        ...   \n",
      "9995              No               No          Electronic Check  68.197130   \n",
      "9996              No               No          Electronic Check  61.040370   \n",
      "9997              No              Yes  Bank Transfer(automatic)        NaN   \n",
      "9998             Yes              Yes   Credit Card (automatic)  71.095600   \n",
      "9999             Yes              Yes          Electronic Check  63.350860   \n",
      "\n",
      "      MonthlyCharge  Bandwidth_GB_Year  item1  item2  item3  item4  item5  \\\n",
      "0        171.449762         904.536110      5      5      5      3      4   \n",
      "1        242.948015         800.982766      3      4      3      3      4   \n",
      "2        159.440398        2054.706961      4      4      2      4      4   \n",
      "3        120.249493        2164.579412      4      4      4      2      5   \n",
      "4        150.761216         271.493436      4      4      4      3      4   \n",
      "...             ...                ...    ...    ...    ...    ...    ...   \n",
      "9995     159.828800        6511.253000      3      2      3      3      4   \n",
      "9996     208.856400        5695.952000      4      5      5      4      4   \n",
      "9997     168.220900        4159.306000      4      4      4      4      4   \n",
      "9998     252.628600        6468.457000      4      4      6      4      3   \n",
      "9999     218.371000        5857.586000      2      2      3      3      3   \n",
      "\n",
      "      item6  item7  item8  \n",
      "0         4      3      4  \n",
      "1         3      4      4  \n",
      "2         3      3      3  \n",
      "3         4      3      3  \n",
      "4         4      4      5  \n",
      "...     ...    ...    ...  \n",
      "9995      3      2      3  \n",
      "9996      5      2      5  \n",
      "9997      4      4      5  \n",
      "9998      3      5      4  \n",
      "9999      3      4      1  \n",
      "\n",
      "[10000 rows x 52 columns]\n"
     ]
    }
   ],
   "source": [
    "## add comment\n",
    "pd.set_option('display.max_columns', None)\n",
    "\n",
    "print(df)"
   ]
  },
  {
   "cell_type": "code",
   "execution_count": 699,
   "metadata": {},
   "outputs": [
    {
     "name": "stdout",
     "output_type": "stream",
     "text": [
      "<class 'pandas.core.frame.DataFrame'>\n",
      "RangeIndex: 10000 entries, 0 to 9999\n",
      "Data columns (total 52 columns):\n",
      " #   Column                Non-Null Count  Dtype  \n",
      "---  ------                --------------  -----  \n",
      " 0   Unnamed: 0            10000 non-null  int64  \n",
      " 1   CaseOrder             10000 non-null  int64  \n",
      " 2   Customer_id           10000 non-null  object \n",
      " 3   Interaction           10000 non-null  object \n",
      " 4   City                  10000 non-null  object \n",
      " 5   State                 10000 non-null  object \n",
      " 6   County                10000 non-null  object \n",
      " 7   Zip                   10000 non-null  int64  \n",
      " 8   Lat                   10000 non-null  float64\n",
      " 9   Lng                   10000 non-null  float64\n",
      " 10  Population            10000 non-null  int64  \n",
      " 11  Area                  10000 non-null  object \n",
      " 12  Timezone              10000 non-null  object \n",
      " 13  Job                   10000 non-null  object \n",
      " 14  Children              7505 non-null   float64\n",
      " 15  Age                   7525 non-null   float64\n",
      " 16  Education             10000 non-null  object \n",
      " 17  Employment            10000 non-null  object \n",
      " 18  Income                7510 non-null   float64\n",
      " 19  Marital               10000 non-null  object \n",
      " 20  Gender                10000 non-null  object \n",
      " 21  Churn                 10000 non-null  object \n",
      " 22  Outage_sec_perweek    10000 non-null  float64\n",
      " 23  Email                 10000 non-null  int64  \n",
      " 24  Contacts              10000 non-null  int64  \n",
      " 25  Yearly_equip_failure  10000 non-null  int64  \n",
      " 26  Techie                7523 non-null   object \n",
      " 27  Contract              10000 non-null  object \n",
      " 28  Port_modem            10000 non-null  object \n",
      " 29  Tablet                10000 non-null  object \n",
      " 30  InternetService       10000 non-null  object \n",
      " 31  Phone                 8974 non-null   object \n",
      " 32  Multiple              10000 non-null  object \n",
      " 33  OnlineSecurity        10000 non-null  object \n",
      " 34  OnlineBackup          10000 non-null  object \n",
      " 35  DeviceProtection      10000 non-null  object \n",
      " 36  TechSupport           9009 non-null   object \n",
      " 37  StreamingTV           10000 non-null  object \n",
      " 38  StreamingMovies       10000 non-null  object \n",
      " 39  PaperlessBilling      10000 non-null  object \n",
      " 40  PaymentMethod         10000 non-null  object \n",
      " 41  Tenure                9069 non-null   float64\n",
      " 42  MonthlyCharge         10000 non-null  float64\n",
      " 43  Bandwidth_GB_Year     8979 non-null   float64\n",
      " 44  item1                 10000 non-null  int64  \n",
      " 45  item2                 10000 non-null  int64  \n",
      " 46  item3                 10000 non-null  int64  \n",
      " 47  item4                 10000 non-null  int64  \n",
      " 48  item5                 10000 non-null  int64  \n",
      " 49  item6                 10000 non-null  int64  \n",
      " 50  item7                 10000 non-null  int64  \n",
      " 51  item8                 10000 non-null  int64  \n",
      "dtypes: float64(9), int64(15), object(28)\n",
      "memory usage: 4.0+ MB\n"
     ]
    }
   ],
   "source": [
    "df.info()"
   ]
  },
  {
   "cell_type": "markdown",
   "metadata": {},
   "source": [
    "<img src=\"data_dictionary_1.png\" width=\"750\" height=\"750\">\n",
    "<img src=\"data_dictionary_2.png\" width=\"750\" height=\"750\">\n",
    "<img src=\"data_dictionary_3.png\" width=\"750\" height=\"750\">"
   ]
  },
  {
   "cell_type": "code",
   "execution_count": 700,
   "metadata": {},
   "outputs": [
    {
     "data": {
      "text/plain": [
       "numpy.int64"
      ]
     },
     "execution_count": 700,
     "metadata": {},
     "output_type": "execute_result"
    }
   ],
   "source": [
    "# Run this code for every data type to verify the data type\n",
    "type(df.loc[2,'Unnamed: 0'])"
   ]
  },
  {
   "cell_type": "markdown",
   "metadata": {},
   "source": [
    " **Unnamed:** Is an int that is a 1 based index that I intend to change to a zero based index.\n",
    " \n",
    " **CaseOrder:** Is an int that preserves the order of the original file.              \n",
    " \n",
    " **Customer_id:** Is an string that contains letters and numbers that is a unique identifier.   \n",
    " \n",
    " \n",
    " **Interaction:** Is an string that is a unique id that is related to customer interactions with the company through transactions, technical support and customer sign up.            \n",
    " \n",
    " **City:** Is a string that contains the customers city of residence that is listed on the billing statement. Categorical.                 \n",
    " \n",
    " **State:** Is a string that contains the customers state of residence that is listed on the billing statement. Categorical.                \n",
    " \n",
    " **County:** Is a string that contains the customers state of residence that is listed on the billing statement. Categorical.               \n",
    " \n",
    " **Zip:** Is an int that contains the customers zip code of residence that is listed on the billing statement. Categorical.                  \n",
    " \n",
    " **Lat:** Is an int that lists the latitude of the customers residence that is listed on the billing statement. Categorical.\n",
    " \n",
    " **Lng:** Is an int that lists the longitude of the customers residence that is listed on the billing statement. Categorical.                  \n",
    " \n",
    " **Population:** Is an int that lists the population within a mile radius based on census data. Quantitative.\n",
    " \n",
    " \n",
    " **Area:**  Is a string that describes the area type based on census data. Either rural, urban or suburban. Categorical.\n",
    " \n",
    " **Timezone:** Is a strong of the time zone of the customer based on sign up information. Categorical.             \n",
    " \n",
    " **Job:** Is a string that represents the employment of the person being invoiced at sign up time. Categorical. \n",
    " \n",
    " \n",
    " **Children:** Is an integer that represents the number of children in the household at the time of signup. Categorical.       \n",
    " \n",
    " **Age:** An int that represents the age of the customer at signup. Categorical.\n",
    " \n",
    " **Education:** A string of the highest degree the customer had earned at signup. Categorical.\n",
    " \n",
    " **Employment:** A string of the customers employment status at the time of signup. Categorical.            \n",
    " \n",
    " **Income:** An int representing the income of the customer at signup. Categorical.              \n",
    " \n",
    " **Marital:**  A string representing the marital status of the customer at signup. Categorical.              \n",
    " \n",
    " **Gender:**   A string representing the gender of the customer. Either male, female or non-binary. Categorical.             \n",
    " **Churn:** A string representing whether the customer has discontinued service within the last month. Categorical.\n",
    " \n",
    " **Outage_sec_perweek:** An int representing the number of seconds per week of system outages in the customers neighborhood.    \n",
    " \n",
    " **Email:** An int representing the number of emails sent to the customer in the last year via marketing or correspondence.                \n",
    " \n",
    " **Contacts:** An int representing the times a customer contacted customer support.             \n",
    " \n",
    " **Yearly_equip_failure:**  An int representing the number of times customers equipment failed and needed to be reset or replaced.\n",
    " \n",
    " **Techie:** Whether the customer considers themselves technically inclined per survey when they signed up. Categorical.       \n",
    " \n",
    " **Contract:** A string representing the term of the contract. Month-month, one-year and two-year. Categorical. \n",
    " \n",
    " \n",
    " **Port_modem:** A string representing whether the customer has a portable modem or not. Categorical.            \n",
    " \n",
    " **Tablet:** A string representing whether the customer has a portable modem or not. Categorical.                \n",
    " \n",
    " **InternetService:** A string representing the customers type of internet service. DSL, fiber optic or none. Categorical.     \n",
    " \n",
    " **Phone:** A string representing whether the customer has a phone or not. Categorical.                 \n",
    " \n",
    " **Multiple:** A string representing whether the customer has multiple lines or not.Categorical.              \n",
    " \n",
    " **OnlineSecurity:** A string representing whether the customer has online security add-on. Categorical.        \n",
    " \n",
    " **OnlineBackup:** A string representing whether the customer has an online back-up add-on. Categorical.          \n",
    " \n",
    " **DeviceProtection:** A string representing whether the customer has device protection add-on. Categorical.      \n",
    " \n",
    " **TechSupport:** A string representing whether the customer has technical support add-on. Categorical.           \n",
    " \n",
    " **StreamingTV:** A string representing whether the customer has streaming TV. Categorical.           \n",
    " \n",
    " **StreamingMovies:** A string representing whether the customer has streaming movies. Categorical.\n",
    " \n",
    " **PaperlessBilling:**  A string representing whether the customer has paperless billing. Categorical.    \n",
    " \n",
    " **PaymentMethod:** A string representing the customers payment method and whether it is automatic or not. Categorical.         \n",
    " \n",
    " **Tenure:** An int representing the number of months the customer has stayed with the provider.                \n",
    " \n",
    " **MonthlyCharge:** An int that is the average monthly bill the customer receives.         \n",
    " \n",
    " **Bandwidth_GB_Year:** An int that represents the average GB used per year by the customer.   \n",
    " \n",
    " ### Eight question customer survey 1 being most important and 8 being least important\n",
    " \n",
    " **item1:** Timely responses                 \n",
    " \n",
    " **item2:** Timely Fixes                 \n",
    " \n",
    " **item3:** Timely Replacements                 \n",
    " \n",
    " **item4:** Reliability                  \n",
    " \n",
    " **item5:** Options                 \n",
    " \n",
    " **item6:** Respectful response                 \n",
    " \n",
    " **item7:** Courteous exchange                 \n",
    " \n",
    " **item8:** Evidence of active listening                \n",
    " "
   ]
  },
  {
   "cell_type": "code",
   "execution_count": null,
   "metadata": {},
   "outputs": [],
   "source": []
  },
  {
   "cell_type": "markdown",
   "metadata": {
    "heading_collapsed": true
   },
   "source": [
    "### Notes on Data:\n",
    "#### Timezone is data based on sign up whereas other variables are based on the billing statement.\n",
    "#### Analyzing customers who consider themselves techies and the amount of contacts to customer support.\n",
    "#### Exploring issues with equipment and their effect on churn.\n",
    "#### Exploring average amount of bill and its effect on churn.\n",
    "#### Exploring average amount of bill, add-ons, and income/employment and its effect on churn.\n",
    "#### Payment method used and its effect on churn.\n",
    "#### The amount of contact that the company has with the customer and its effect on churn.\n",
    "#### Analyzing the survey and the level of importance on the interaction with customer service and its effect on churn as well as how many times the customer has been in contact with the company. Might give insight to the level of customer service that customers are receiving."
   ]
  },
  {
   "cell_type": "markdown",
   "metadata": {},
   "source": [
    "# Part II: Data-Cleaning Plan\n",
    "<br><br>"
   ]
  },
  {
   "cell_type": "markdown",
   "metadata": {},
   "source": [
    "## C.  Explain the plan for cleaning the data by doing the following:"
   ]
  },
  {
   "cell_type": "markdown",
   "metadata": {},
   "source": [
    "\n",
    "1.  Propose a plan that includes the relevant techniques and specific steps needed to identify anomalies in the data set.\n",
    "<ul>\n",
    "    <li>Changing 'unnamed' from a 1 based index to a zero based index and renaming it 'index'.\n",
    "</li>\n",
    "    <li>Changing misleading field value\n",
    "</li>\n",
    "    <li>Chang NaN values to the Median of the column.</li>\n",
    "    <li>Re-expressing categorical data as numeric data\n",
    "</li>\n",
    "    <li>Standardizing the numeric fields\n",
    "</li>\n",
    "    <li>Identifying outliers\n",
    "</li>\n",
    "</ul>\n",
    "\n",
    "\n",
    "\n",
    "<br><br>"
   ]
  },
  {
   "cell_type": "markdown",
   "metadata": {},
   "source": [
    "2.  Justify your approach for assessing the quality of the data, include:\n",
    "<p>Characteristics of the data being assessed</p>\n",
    "<ul>\n",
    "    <li>Completeness</li>\n",
    "    <li>Validity</li>\n",
    "    <li>Consistency</li>\n",
    "    <li>Integrity</li>\n",
    "    <li>Unique</li>\n",
    "</ul>\n",
    "<p>The completeness of the data. It not having missing values or incorrect data.</p>\n",
    "<p>The validity of the data. The data is formatted correctly and the data is accurate.</p>\n",
    "<p>The data is consistent in the ways that it is labeled and represented in a uniform way.</p>\n",
    "<p>The data is correctly associated with other data that represents the proper meaning </p>\n",
    "<p>All data is able to be identified and associated with the correct unique source</p>\n",
    "<p>The data can be attached to a unique index that is associated with the relevant data and a unique customer id. After that the misleading fields values are renamed and replaced with values that are easily understood and relevant to the field. Next re-expressing categorical data as numeric data will allow us to assign meaning and context to data that would otherwise not be as usable. I will need to be careful to accurately re-express the data so as to not corrupt the data. Next standardizing the numeric fields will allow the data to be associated with a numeric value that indicates how many standard deviations the data is away from the mean of the data. With the standardization of the numeric fields I will be able to accurately identify outliers by determining their distance from the mean as well as the number of standard deviations away from the mean.</p>\n",
    "<br><br>  "
   ]
  },
  {
   "cell_type": "markdown",
   "metadata": {},
   "source": [
    "3.  Justify your selected programming language and any libraries and packages that will support the data-cleaning process.\n",
    "#### Python with Pandas, Numpy, matplotlib.pyplot and using the magic inline code for graphs and plots.\n",
    "##### I chose Python as I am already somewhat knowledgeable with python as it pertains to data science and it is a very good generalist language that has a ton of tools and support for data science and analytics through its libraries, packages and modules. It has a vast community that is active and always helpful whenever help is needed. There are thousands of resources for Python and data analytics should a problem arise that I do not know how to solve. \n",
    "\n",
    "<br>\n",
    "<br>"
   ]
  },
  {
   "cell_type": "markdown",
   "metadata": {},
   "source": [
    "\n",
    "\n",
    "4.  Provide the code you will use to identify the anomalies in the data.\n",
    "\n",
    "<br><br>"
   ]
  },
  {
   "cell_type": "markdown",
   "metadata": {},
   "source": [
    "## Changing unnamed to 'index' and making it a zero based index."
   ]
  },
  {
   "cell_type": "code",
   "execution_count": 701,
   "metadata": {},
   "outputs": [
    {
     "data": {
      "text/plain": [
       "'Index'"
      ]
     },
     "execution_count": 701,
     "metadata": {},
     "output_type": "execute_result"
    }
   ],
   "source": [
    "df.rename(columns={('Unnamed: 0'): ('Index')}, inplace=True)\n",
    "df.columns[0]"
   ]
  },
  {
   "cell_type": "code",
   "execution_count": 702,
   "metadata": {},
   "outputs": [
    {
     "data": {
      "text/plain": [
       "(10000, 52)"
      ]
     },
     "execution_count": 702,
     "metadata": {},
     "output_type": "execute_result"
    }
   ],
   "source": [
    "df.shape"
   ]
  },
  {
   "cell_type": "code",
   "execution_count": 703,
   "metadata": {},
   "outputs": [],
   "source": [
    "df.Index = pd.Series(range(0,10000))"
   ]
  },
  {
   "cell_type": "code",
   "execution_count": 704,
   "metadata": {},
   "outputs": [
    {
     "data": {
      "text/plain": [
       "0    0\n",
       "1    1\n",
       "2    2\n",
       "3    3\n",
       "4    4\n",
       "Name: Index, dtype: int64"
      ]
     },
     "execution_count": 704,
     "metadata": {},
     "output_type": "execute_result"
    }
   ],
   "source": [
    "df.Index.head()"
   ]
  },
  {
   "cell_type": "code",
   "execution_count": 705,
   "metadata": {},
   "outputs": [
    {
     "data": {
      "text/html": [
       "<div>\n",
       "<style scoped>\n",
       "    .dataframe tbody tr th:only-of-type {\n",
       "        vertical-align: middle;\n",
       "    }\n",
       "\n",
       "    .dataframe tbody tr th {\n",
       "        vertical-align: top;\n",
       "    }\n",
       "\n",
       "    .dataframe thead th {\n",
       "        text-align: right;\n",
       "    }\n",
       "</style>\n",
       "<table border=\"1\" class=\"dataframe\">\n",
       "  <thead>\n",
       "    <tr style=\"text-align: right;\">\n",
       "      <th></th>\n",
       "      <th>Index</th>\n",
       "      <th>CaseOrder</th>\n",
       "      <th>Customer_id</th>\n",
       "      <th>Interaction</th>\n",
       "      <th>City</th>\n",
       "      <th>State</th>\n",
       "      <th>County</th>\n",
       "      <th>Zip</th>\n",
       "      <th>Lat</th>\n",
       "      <th>Lng</th>\n",
       "      <th>Population</th>\n",
       "      <th>Area</th>\n",
       "      <th>Timezone</th>\n",
       "      <th>Job</th>\n",
       "      <th>Children</th>\n",
       "      <th>Age</th>\n",
       "      <th>Education</th>\n",
       "      <th>Employment</th>\n",
       "      <th>Income</th>\n",
       "      <th>Marital</th>\n",
       "      <th>Gender</th>\n",
       "      <th>Churn</th>\n",
       "      <th>Outage_sec_perweek</th>\n",
       "      <th>Email</th>\n",
       "      <th>Contacts</th>\n",
       "      <th>Yearly_equip_failure</th>\n",
       "      <th>Techie</th>\n",
       "      <th>Contract</th>\n",
       "      <th>Port_modem</th>\n",
       "      <th>Tablet</th>\n",
       "      <th>InternetService</th>\n",
       "      <th>Phone</th>\n",
       "      <th>Multiple</th>\n",
       "      <th>OnlineSecurity</th>\n",
       "      <th>OnlineBackup</th>\n",
       "      <th>DeviceProtection</th>\n",
       "      <th>TechSupport</th>\n",
       "      <th>StreamingTV</th>\n",
       "      <th>StreamingMovies</th>\n",
       "      <th>PaperlessBilling</th>\n",
       "      <th>PaymentMethod</th>\n",
       "      <th>Tenure</th>\n",
       "      <th>MonthlyCharge</th>\n",
       "      <th>Bandwidth_GB_Year</th>\n",
       "      <th>item1</th>\n",
       "      <th>item2</th>\n",
       "      <th>item3</th>\n",
       "      <th>item4</th>\n",
       "      <th>item5</th>\n",
       "      <th>item6</th>\n",
       "      <th>item7</th>\n",
       "      <th>item8</th>\n",
       "    </tr>\n",
       "  </thead>\n",
       "  <tbody>\n",
       "    <tr>\n",
       "      <th>0</th>\n",
       "      <td>0</td>\n",
       "      <td>1</td>\n",
       "      <td>K409198</td>\n",
       "      <td>aa90260b-4141-4a24-8e36-b04ce1f4f77b</td>\n",
       "      <td>Point Baker</td>\n",
       "      <td>AK</td>\n",
       "      <td>Prince of Wales-Hyder</td>\n",
       "      <td>99927</td>\n",
       "      <td>56.25100</td>\n",
       "      <td>-133.37571</td>\n",
       "      <td>38</td>\n",
       "      <td>Urban</td>\n",
       "      <td>America/Sitka</td>\n",
       "      <td>Environmental health practitioner</td>\n",
       "      <td>NaN</td>\n",
       "      <td>68.0</td>\n",
       "      <td>Master's Degree</td>\n",
       "      <td>Part Time</td>\n",
       "      <td>28561.99</td>\n",
       "      <td>Widowed</td>\n",
       "      <td>Male</td>\n",
       "      <td>No</td>\n",
       "      <td>6.972566</td>\n",
       "      <td>10</td>\n",
       "      <td>0</td>\n",
       "      <td>1</td>\n",
       "      <td>No</td>\n",
       "      <td>One year</td>\n",
       "      <td>Yes</td>\n",
       "      <td>Yes</td>\n",
       "      <td>Fiber Optic</td>\n",
       "      <td>Yes</td>\n",
       "      <td>No</td>\n",
       "      <td>Yes</td>\n",
       "      <td>Yes</td>\n",
       "      <td>No</td>\n",
       "      <td>No</td>\n",
       "      <td>No</td>\n",
       "      <td>Yes</td>\n",
       "      <td>Yes</td>\n",
       "      <td>Credit Card (automatic)</td>\n",
       "      <td>6.795513</td>\n",
       "      <td>171.449762</td>\n",
       "      <td>904.536110</td>\n",
       "      <td>5</td>\n",
       "      <td>5</td>\n",
       "      <td>5</td>\n",
       "      <td>3</td>\n",
       "      <td>4</td>\n",
       "      <td>4</td>\n",
       "      <td>3</td>\n",
       "      <td>4</td>\n",
       "    </tr>\n",
       "    <tr>\n",
       "      <th>1</th>\n",
       "      <td>1</td>\n",
       "      <td>2</td>\n",
       "      <td>S120509</td>\n",
       "      <td>fb76459f-c047-4a9d-8af9-e0f7d4ac2524</td>\n",
       "      <td>West Branch</td>\n",
       "      <td>MI</td>\n",
       "      <td>Ogemaw</td>\n",
       "      <td>48661</td>\n",
       "      <td>44.32893</td>\n",
       "      <td>-84.24080</td>\n",
       "      <td>10446</td>\n",
       "      <td>Urban</td>\n",
       "      <td>America/Detroit</td>\n",
       "      <td>Programmer, multimedia</td>\n",
       "      <td>1.0</td>\n",
       "      <td>27.0</td>\n",
       "      <td>Regular High School Diploma</td>\n",
       "      <td>Retired</td>\n",
       "      <td>21704.77</td>\n",
       "      <td>Married</td>\n",
       "      <td>Female</td>\n",
       "      <td>Yes</td>\n",
       "      <td>12.014541</td>\n",
       "      <td>12</td>\n",
       "      <td>0</td>\n",
       "      <td>1</td>\n",
       "      <td>Yes</td>\n",
       "      <td>Month-to-month</td>\n",
       "      <td>No</td>\n",
       "      <td>Yes</td>\n",
       "      <td>Fiber Optic</td>\n",
       "      <td>Yes</td>\n",
       "      <td>Yes</td>\n",
       "      <td>Yes</td>\n",
       "      <td>No</td>\n",
       "      <td>No</td>\n",
       "      <td>No</td>\n",
       "      <td>Yes</td>\n",
       "      <td>Yes</td>\n",
       "      <td>Yes</td>\n",
       "      <td>Bank Transfer(automatic)</td>\n",
       "      <td>1.156681</td>\n",
       "      <td>242.948015</td>\n",
       "      <td>800.982766</td>\n",
       "      <td>3</td>\n",
       "      <td>4</td>\n",
       "      <td>3</td>\n",
       "      <td>3</td>\n",
       "      <td>4</td>\n",
       "      <td>3</td>\n",
       "      <td>4</td>\n",
       "      <td>4</td>\n",
       "    </tr>\n",
       "    <tr>\n",
       "      <th>2</th>\n",
       "      <td>2</td>\n",
       "      <td>3</td>\n",
       "      <td>K191035</td>\n",
       "      <td>344d114c-3736-4be5-98f7-c72c281e2d35</td>\n",
       "      <td>Yamhill</td>\n",
       "      <td>OR</td>\n",
       "      <td>Yamhill</td>\n",
       "      <td>97148</td>\n",
       "      <td>45.35589</td>\n",
       "      <td>-123.24657</td>\n",
       "      <td>3735</td>\n",
       "      <td>Urban</td>\n",
       "      <td>America/Los_Angeles</td>\n",
       "      <td>Chief Financial Officer</td>\n",
       "      <td>4.0</td>\n",
       "      <td>50.0</td>\n",
       "      <td>Regular High School Diploma</td>\n",
       "      <td>Student</td>\n",
       "      <td>NaN</td>\n",
       "      <td>Widowed</td>\n",
       "      <td>Female</td>\n",
       "      <td>No</td>\n",
       "      <td>10.245616</td>\n",
       "      <td>9</td>\n",
       "      <td>0</td>\n",
       "      <td>1</td>\n",
       "      <td>Yes</td>\n",
       "      <td>Two Year</td>\n",
       "      <td>Yes</td>\n",
       "      <td>No</td>\n",
       "      <td>DSL</td>\n",
       "      <td>Yes</td>\n",
       "      <td>Yes</td>\n",
       "      <td>No</td>\n",
       "      <td>No</td>\n",
       "      <td>No</td>\n",
       "      <td>No</td>\n",
       "      <td>No</td>\n",
       "      <td>Yes</td>\n",
       "      <td>Yes</td>\n",
       "      <td>Credit Card (automatic)</td>\n",
       "      <td>15.754144</td>\n",
       "      <td>159.440398</td>\n",
       "      <td>2054.706961</td>\n",
       "      <td>4</td>\n",
       "      <td>4</td>\n",
       "      <td>2</td>\n",
       "      <td>4</td>\n",
       "      <td>4</td>\n",
       "      <td>3</td>\n",
       "      <td>3</td>\n",
       "      <td>3</td>\n",
       "    </tr>\n",
       "    <tr>\n",
       "      <th>3</th>\n",
       "      <td>3</td>\n",
       "      <td>4</td>\n",
       "      <td>D90850</td>\n",
       "      <td>abfa2b40-2d43-4994-b15a-989b8c79e311</td>\n",
       "      <td>Del Mar</td>\n",
       "      <td>CA</td>\n",
       "      <td>San Diego</td>\n",
       "      <td>92014</td>\n",
       "      <td>32.96687</td>\n",
       "      <td>-117.24798</td>\n",
       "      <td>13863</td>\n",
       "      <td>Suburban</td>\n",
       "      <td>America/Los_Angeles</td>\n",
       "      <td>Solicitor</td>\n",
       "      <td>1.0</td>\n",
       "      <td>48.0</td>\n",
       "      <td>Doctorate Degree</td>\n",
       "      <td>Retired</td>\n",
       "      <td>18925.23</td>\n",
       "      <td>Married</td>\n",
       "      <td>Male</td>\n",
       "      <td>No</td>\n",
       "      <td>15.206193</td>\n",
       "      <td>15</td>\n",
       "      <td>2</td>\n",
       "      <td>0</td>\n",
       "      <td>Yes</td>\n",
       "      <td>Two Year</td>\n",
       "      <td>No</td>\n",
       "      <td>No</td>\n",
       "      <td>DSL</td>\n",
       "      <td>Yes</td>\n",
       "      <td>No</td>\n",
       "      <td>Yes</td>\n",
       "      <td>No</td>\n",
       "      <td>No</td>\n",
       "      <td>No</td>\n",
       "      <td>Yes</td>\n",
       "      <td>No</td>\n",
       "      <td>Yes</td>\n",
       "      <td>Mailed Check</td>\n",
       "      <td>17.087227</td>\n",
       "      <td>120.249493</td>\n",
       "      <td>2164.579412</td>\n",
       "      <td>4</td>\n",
       "      <td>4</td>\n",
       "      <td>4</td>\n",
       "      <td>2</td>\n",
       "      <td>5</td>\n",
       "      <td>4</td>\n",
       "      <td>3</td>\n",
       "      <td>3</td>\n",
       "    </tr>\n",
       "    <tr>\n",
       "      <th>4</th>\n",
       "      <td>4</td>\n",
       "      <td>5</td>\n",
       "      <td>K662701</td>\n",
       "      <td>68a861fd-0d20-4e51-a587-8a90407ee574</td>\n",
       "      <td>Needville</td>\n",
       "      <td>TX</td>\n",
       "      <td>Fort Bend</td>\n",
       "      <td>77461</td>\n",
       "      <td>29.38012</td>\n",
       "      <td>-95.80673</td>\n",
       "      <td>11352</td>\n",
       "      <td>Suburban</td>\n",
       "      <td>America/Chicago</td>\n",
       "      <td>Medical illustrator</td>\n",
       "      <td>0.0</td>\n",
       "      <td>83.0</td>\n",
       "      <td>Master's Degree</td>\n",
       "      <td>Student</td>\n",
       "      <td>40074.19</td>\n",
       "      <td>Separated</td>\n",
       "      <td>Male</td>\n",
       "      <td>Yes</td>\n",
       "      <td>8.960316</td>\n",
       "      <td>16</td>\n",
       "      <td>2</td>\n",
       "      <td>1</td>\n",
       "      <td>No</td>\n",
       "      <td>Month-to-month</td>\n",
       "      <td>Yes</td>\n",
       "      <td>No</td>\n",
       "      <td>Fiber Optic</td>\n",
       "      <td>No</td>\n",
       "      <td>No</td>\n",
       "      <td>No</td>\n",
       "      <td>No</td>\n",
       "      <td>No</td>\n",
       "      <td>Yes</td>\n",
       "      <td>Yes</td>\n",
       "      <td>No</td>\n",
       "      <td>No</td>\n",
       "      <td>Mailed Check</td>\n",
       "      <td>1.670972</td>\n",
       "      <td>150.761216</td>\n",
       "      <td>271.493436</td>\n",
       "      <td>4</td>\n",
       "      <td>4</td>\n",
       "      <td>4</td>\n",
       "      <td>3</td>\n",
       "      <td>4</td>\n",
       "      <td>4</td>\n",
       "      <td>4</td>\n",
       "      <td>5</td>\n",
       "    </tr>\n",
       "  </tbody>\n",
       "</table>\n",
       "</div>"
      ],
      "text/plain": [
       "   Index  CaseOrder Customer_id                           Interaction  \\\n",
       "0      0          1     K409198  aa90260b-4141-4a24-8e36-b04ce1f4f77b   \n",
       "1      1          2     S120509  fb76459f-c047-4a9d-8af9-e0f7d4ac2524   \n",
       "2      2          3     K191035  344d114c-3736-4be5-98f7-c72c281e2d35   \n",
       "3      3          4      D90850  abfa2b40-2d43-4994-b15a-989b8c79e311   \n",
       "4      4          5     K662701  68a861fd-0d20-4e51-a587-8a90407ee574   \n",
       "\n",
       "          City State                 County    Zip       Lat        Lng  \\\n",
       "0  Point Baker    AK  Prince of Wales-Hyder  99927  56.25100 -133.37571   \n",
       "1  West Branch    MI                 Ogemaw  48661  44.32893  -84.24080   \n",
       "2      Yamhill    OR                Yamhill  97148  45.35589 -123.24657   \n",
       "3      Del Mar    CA              San Diego  92014  32.96687 -117.24798   \n",
       "4    Needville    TX              Fort Bend  77461  29.38012  -95.80673   \n",
       "\n",
       "   Population      Area             Timezone  \\\n",
       "0          38     Urban        America/Sitka   \n",
       "1       10446     Urban      America/Detroit   \n",
       "2        3735     Urban  America/Los_Angeles   \n",
       "3       13863  Suburban  America/Los_Angeles   \n",
       "4       11352  Suburban      America/Chicago   \n",
       "\n",
       "                                 Job  Children   Age  \\\n",
       "0  Environmental health practitioner       NaN  68.0   \n",
       "1             Programmer, multimedia       1.0  27.0   \n",
       "2            Chief Financial Officer       4.0  50.0   \n",
       "3                          Solicitor       1.0  48.0   \n",
       "4                Medical illustrator       0.0  83.0   \n",
       "\n",
       "                     Education Employment    Income    Marital  Gender Churn  \\\n",
       "0              Master's Degree  Part Time  28561.99    Widowed    Male    No   \n",
       "1  Regular High School Diploma    Retired  21704.77    Married  Female   Yes   \n",
       "2  Regular High School Diploma    Student       NaN    Widowed  Female    No   \n",
       "3             Doctorate Degree    Retired  18925.23    Married    Male    No   \n",
       "4              Master's Degree    Student  40074.19  Separated    Male   Yes   \n",
       "\n",
       "   Outage_sec_perweek  Email  Contacts  Yearly_equip_failure Techie  \\\n",
       "0            6.972566     10         0                     1     No   \n",
       "1           12.014541     12         0                     1    Yes   \n",
       "2           10.245616      9         0                     1    Yes   \n",
       "3           15.206193     15         2                     0    Yes   \n",
       "4            8.960316     16         2                     1     No   \n",
       "\n",
       "         Contract Port_modem Tablet InternetService Phone Multiple  \\\n",
       "0        One year        Yes    Yes     Fiber Optic   Yes       No   \n",
       "1  Month-to-month         No    Yes     Fiber Optic   Yes      Yes   \n",
       "2        Two Year        Yes     No             DSL   Yes      Yes   \n",
       "3        Two Year         No     No             DSL   Yes       No   \n",
       "4  Month-to-month        Yes     No     Fiber Optic    No       No   \n",
       "\n",
       "  OnlineSecurity OnlineBackup DeviceProtection TechSupport StreamingTV  \\\n",
       "0            Yes          Yes               No          No          No   \n",
       "1            Yes           No               No          No         Yes   \n",
       "2             No           No               No          No          No   \n",
       "3            Yes           No               No          No         Yes   \n",
       "4             No           No               No         Yes         Yes   \n",
       "\n",
       "  StreamingMovies PaperlessBilling             PaymentMethod     Tenure  \\\n",
       "0             Yes              Yes   Credit Card (automatic)   6.795513   \n",
       "1             Yes              Yes  Bank Transfer(automatic)   1.156681   \n",
       "2             Yes              Yes   Credit Card (automatic)  15.754144   \n",
       "3              No              Yes              Mailed Check  17.087227   \n",
       "4              No               No              Mailed Check   1.670972   \n",
       "\n",
       "   MonthlyCharge  Bandwidth_GB_Year  item1  item2  item3  item4  item5  item6  \\\n",
       "0     171.449762         904.536110      5      5      5      3      4      4   \n",
       "1     242.948015         800.982766      3      4      3      3      4      3   \n",
       "2     159.440398        2054.706961      4      4      2      4      4      3   \n",
       "3     120.249493        2164.579412      4      4      4      2      5      4   \n",
       "4     150.761216         271.493436      4      4      4      3      4      4   \n",
       "\n",
       "   item7  item8  \n",
       "0      3      4  \n",
       "1      4      4  \n",
       "2      3      3  \n",
       "3      3      3  \n",
       "4      4      5  "
      ]
     },
     "execution_count": 705,
     "metadata": {},
     "output_type": "execute_result"
    }
   ],
   "source": [
    "df.head()"
   ]
  },
  {
   "cell_type": "markdown",
   "metadata": {},
   "source": [
    "## Changing misleading field values"
   ]
  },
  {
   "cell_type": "code",
   "execution_count": 706,
   "metadata": {},
   "outputs": [
    {
     "name": "stdout",
     "output_type": "stream",
     "text": [
      "Index 10000\n",
      "CaseOrder 10000\n",
      "Customer_id 10000\n",
      "Interaction 10000\n",
      "City 6058\n",
      "State 52\n",
      "County 1620\n",
      "Zip 8583\n",
      "Lat 8563\n",
      "Lng 8655\n",
      "Population 5933\n",
      "Area 3\n",
      "Timezone 25\n",
      "Job 639\n",
      "Children 12\n",
      "Age 73\n",
      "Education 12\n",
      "Employment 5\n",
      "Income 7507\n",
      "Marital 5\n",
      "Gender 3\n",
      "Churn 2\n",
      "Outage_sec_perweek 9993\n",
      "Email 23\n",
      "Contacts 8\n",
      "Yearly_equip_failure 6\n",
      "Techie 3\n",
      "Contract 3\n",
      "Port_modem 2\n",
      "Tablet 2\n",
      "InternetService 3\n",
      "Phone 3\n",
      "Multiple 2\n",
      "OnlineSecurity 2\n",
      "OnlineBackup 2\n",
      "DeviceProtection 2\n",
      "TechSupport 3\n",
      "StreamingTV 2\n",
      "StreamingMovies 2\n",
      "PaperlessBilling 2\n",
      "PaymentMethod 4\n",
      "Tenure 9066\n",
      "MonthlyCharge 9984\n",
      "Bandwidth_GB_Year 8973\n",
      "item1 7\n",
      "item2 7\n",
      "item3 8\n",
      "item4 7\n",
      "item5 7\n",
      "item6 8\n",
      "item7 7\n",
      "item8 8\n"
     ]
    }
   ],
   "source": [
    "all_columns = list(df.columns)\n",
    "for column in all_columns:\n",
    "    print(column, len(df[column].unique()))"
   ]
  },
  {
   "cell_type": "markdown",
   "metadata": {},
   "source": [
    "## List of data that has to many unique values\n",
    "### State has 52 but DC and PR are listed, not going to change.\n",
    "### Timezone has 25 unique values even though there are only six time zones in the USA.\n",
    "### Children has 12 different values\n",
    "### Education has 12 values\n",
    "### Employment has 5 values\n",
    "### Marital status has 5 values \n",
    "### Techie has 3 where yes or no would suffice\n",
    "### Internet service has 3 values where yes or no would suffice\n",
    "### Phone has 3 values where yes or no would suffice\n",
    "### Techsupport has 3 values where yes or no would suffice\n"
   ]
  },
  {
   "cell_type": "code",
   "execution_count": 707,
   "metadata": {},
   "outputs": [],
   "source": [
    "unique_values_list = ['Gender','Marital','Churn','Area','Timezone','Children','Education','Employment','Marital','Techie','InternetService','Phone','TechSupport']"
   ]
  },
  {
   "cell_type": "code",
   "execution_count": 708,
   "metadata": {},
   "outputs": [
    {
     "name": "stdout",
     "output_type": "stream",
     "text": [
      "['Male' 'Female' 'Prefer not to answer']\n",
      "['Widowed' 'Married' 'Separated' 'Never Married' 'Divorced']\n",
      "['No' 'Yes']\n",
      "['Urban' 'Suburban' 'Rural']\n",
      "['America/Sitka' 'America/Detroit' 'America/Los_Angeles' 'America/Chicago'\n",
      " 'America/New_York' 'America/Puerto_Rico' 'America/Denver'\n",
      " 'America/Menominee' 'America/Phoenix' 'America/Indiana/Indianapolis'\n",
      " 'America/Boise' 'America/Kentucky/Louisville' 'Pacific/Honolulu'\n",
      " 'America/Indiana/Petersburg' 'America/Nome' 'America/Anchorage'\n",
      " 'America/Indiana/Knox' 'America/Juneau' 'America/Toronto'\n",
      " 'America/Indiana/Winamac' 'America/Indiana/Vincennes'\n",
      " 'America/North_Dakota/New_Salem' 'America/Indiana/Tell_City'\n",
      " 'America/Indiana/Marengo' 'America/Ojinaga']\n",
      "[nan  1.  4.  0.  3.  2.  7.  5.  9.  6. 10.  8.]\n",
      "[\"Master's Degree\" 'Regular High School Diploma' 'Doctorate Degree'\n",
      " 'No Schooling Completed' \"Associate's Degree\" \"Bachelor's Degree\"\n",
      " 'Some College, Less than 1 Year' 'GED or Alternative Credential'\n",
      " 'Some College, 1 or More Years, No Degree'\n",
      " '9th Grade to 12th Grade, No Diploma' 'Nursery School to 8th Grade'\n",
      " 'Professional School Degree']\n",
      "['Part Time' 'Retired' 'Student' 'Full Time' 'Unemployed']\n",
      "['Widowed' 'Married' 'Separated' 'Never Married' 'Divorced']\n",
      "['No' 'Yes' nan]\n",
      "['Fiber Optic' 'DSL' 'None']\n",
      "['Yes' 'No' nan]\n",
      "['No' 'Yes' nan]\n"
     ]
    }
   ],
   "source": [
    "for value in unique_values_list:\n",
    "    print(df[value].unique())"
   ]
  },
  {
   "cell_type": "code",
   "execution_count": 709,
   "metadata": {},
   "outputs": [
    {
     "data": {
      "text/plain": [
       "Index                      0\n",
       "CaseOrder                  0\n",
       "Customer_id                0\n",
       "Interaction                0\n",
       "City                       0\n",
       "State                      0\n",
       "County                     0\n",
       "Zip                        0\n",
       "Lat                        0\n",
       "Lng                        0\n",
       "Population                 0\n",
       "Area                       0\n",
       "Timezone                   0\n",
       "Job                        0\n",
       "Children                2495\n",
       "Age                     2475\n",
       "Education                  0\n",
       "Employment                 0\n",
       "Income                  2490\n",
       "Marital                    0\n",
       "Gender                     0\n",
       "Churn                      0\n",
       "Outage_sec_perweek         0\n",
       "Email                      0\n",
       "Contacts                   0\n",
       "Yearly_equip_failure       0\n",
       "Techie                  2477\n",
       "Contract                   0\n",
       "Port_modem                 0\n",
       "Tablet                     0\n",
       "InternetService            0\n",
       "Phone                   1026\n",
       "Multiple                   0\n",
       "OnlineSecurity             0\n",
       "OnlineBackup               0\n",
       "DeviceProtection           0\n",
       "TechSupport              991\n",
       "StreamingTV                0\n",
       "StreamingMovies            0\n",
       "PaperlessBilling           0\n",
       "PaymentMethod              0\n",
       "Tenure                   931\n",
       "MonthlyCharge              0\n",
       "Bandwidth_GB_Year       1021\n",
       "item1                      0\n",
       "item2                      0\n",
       "item3                      0\n",
       "item4                      0\n",
       "item5                      0\n",
       "item6                      0\n",
       "item7                      0\n",
       "item8                      0\n",
       "dtype: int64"
      ]
     },
     "execution_count": 709,
     "metadata": {},
     "output_type": "execute_result"
    }
   ],
   "source": [
    "# checks the data frame for NaN and returns the total per column\n",
    "df.isna().sum(axis=0)"
   ]
  },
  {
   "cell_type": "markdown",
   "metadata": {},
   "source": [
    "## Tried replacing NaN with mean of column.\n",
    "#### The result was not desirable. It inflated the mean drastically and was susceptible to outliers, I then decided to remove the NaN from the dataframe. Which reduced the amount of rows by almost 3/4. This was also undesirable. I finally decided on imputing the mean of the column as it is not affected by outliers and is a better indicator of central tendency.\n",
    "#### cite this here https://www.freecodecamp.org/news/the-penalty-of-missing-values-in-data-science-91b756f95a32/"
   ]
  },
  {
   "cell_type": "code",
   "execution_count": 710,
   "metadata": {},
   "outputs": [],
   "source": [
    "# will replace NaN values with the mean of the column\n",
    "# df.fillna(df.mean(), inplace=True)"
   ]
  },
  {
   "cell_type": "code",
   "execution_count": 711,
   "metadata": {},
   "outputs": [],
   "source": [
    "# df['Children'].plot(kind='hist', bins=12, xticks=range(0,12), title='Histogram of Number of Children.')\n",
    "# df.Age.plot(kind='hist', bins=10, title='Histogram of Age.')\n",
    "# # df_dropped_NaN = df.dropna()\n",
    "# df_dropped_NaN['Children'].plot(kind='hist', bins=12, xticks=range(0,12), title='Histogram of Number of Children with NaN values converted to the columns mean.')\n",
    "# df_dropped_NaN['Age'].plot(kind='hist', bins=10, title='Histogram of Age after NaN has been removed')\n",
    "# len(df_dropped_NaN.isna().sum(axis=0))\n",
    "# df_dropped_NaN.shape\n",
    "# df_dropped_NaN.isna().sum(axis=0)"
   ]
  },
  {
   "cell_type": "code",
   "execution_count": 712,
   "metadata": {},
   "outputs": [],
   "source": [
    "#All fields with a NaN that can be quantified with a mean will be changed to the mean of the column\n",
    "df.fillna(df.mean(), inplace=True)"
   ]
  },
  {
   "cell_type": "markdown",
   "metadata": {},
   "source": [
    "### Because median cannot be called on Techie, Phone, and TechSupport NaN fields will be set to 'Unknown'"
   ]
  },
  {
   "cell_type": "code",
   "execution_count": 713,
   "metadata": {},
   "outputs": [],
   "source": [
    "df.Techie.fillna('unknown', inplace=True)"
   ]
  },
  {
   "cell_type": "code",
   "execution_count": 714,
   "metadata": {},
   "outputs": [],
   "source": [
    "df.Phone.fillna('unknown', inplace=True)"
   ]
  },
  {
   "cell_type": "code",
   "execution_count": 715,
   "metadata": {},
   "outputs": [],
   "source": [
    "df.TechSupport.fillna('unknown', inplace=True)"
   ]
  },
  {
   "cell_type": "code",
   "execution_count": 716,
   "metadata": {},
   "outputs": [
    {
     "data": {
      "text/plain": [
       "Index                   0\n",
       "CaseOrder               0\n",
       "Customer_id             0\n",
       "Interaction             0\n",
       "City                    0\n",
       "State                   0\n",
       "County                  0\n",
       "Zip                     0\n",
       "Lat                     0\n",
       "Lng                     0\n",
       "Population              0\n",
       "Area                    0\n",
       "Timezone                0\n",
       "Job                     0\n",
       "Children                0\n",
       "Age                     0\n",
       "Education               0\n",
       "Employment              0\n",
       "Income                  0\n",
       "Marital                 0\n",
       "Gender                  0\n",
       "Churn                   0\n",
       "Outage_sec_perweek      0\n",
       "Email                   0\n",
       "Contacts                0\n",
       "Yearly_equip_failure    0\n",
       "Techie                  0\n",
       "Contract                0\n",
       "Port_modem              0\n",
       "Tablet                  0\n",
       "InternetService         0\n",
       "Phone                   0\n",
       "Multiple                0\n",
       "OnlineSecurity          0\n",
       "OnlineBackup            0\n",
       "DeviceProtection        0\n",
       "TechSupport             0\n",
       "StreamingTV             0\n",
       "StreamingMovies         0\n",
       "PaperlessBilling        0\n",
       "PaymentMethod           0\n",
       "Tenure                  0\n",
       "MonthlyCharge           0\n",
       "Bandwidth_GB_Year       0\n",
       "item1                   0\n",
       "item2                   0\n",
       "item3                   0\n",
       "item4                   0\n",
       "item5                   0\n",
       "item6                   0\n",
       "item7                   0\n",
       "item8                   0\n",
       "dtype: int64"
      ]
     },
     "execution_count": 716,
     "metadata": {},
     "output_type": "execute_result"
    }
   ],
   "source": [
    "df.isna().sum(axis=0)"
   ]
  },
  {
   "cell_type": "code",
   "execution_count": null,
   "metadata": {},
   "outputs": [],
   "source": []
  },
  {
   "cell_type": "markdown",
   "metadata": {},
   "source": [
    "## Replacing NaN in columns with Median of column"
   ]
  },
  {
   "cell_type": "code",
   "execution_count": 717,
   "metadata": {},
   "outputs": [
    {
     "data": {
      "text/plain": [
       "<AxesSubplot:title={'center':'Histogram of Number of Children.'}, ylabel='Frequency'>"
      ]
     },
     "execution_count": 717,
     "metadata": {},
     "output_type": "execute_result"
    },
    {
     "data": {
      "image/png": "[encoded data removed]",
      "text/plain": [
       "<Figure size 432x288 with 1 Axes>"
      ]
     },
     "metadata": {
      "needs_background": "light"
     },
     "output_type": "display_data"
    }
   ],
   "source": [
    "df['Children'].plot(kind='hist', bins=12, xticks=range(0,12), title='Histogram of Number of Children.')"
   ]
  },
  {
   "cell_type": "code",
   "execution_count": 718,
   "metadata": {},
   "outputs": [
    {
     "data": {
      "text/plain": [
       "<AxesSubplot:title={'center':'Histogram of Age.'}, ylabel='Frequency'>"
      ]
     },
     "execution_count": 718,
     "metadata": {},
     "output_type": "execute_result"
    },
    {
     "data": {
      "image/png": "[encoded data removed]",
      "text/plain": [
       "<Figure size 432x288 with 1 Axes>"
      ]
     },
     "metadata": {
      "needs_background": "light"
     },
     "output_type": "display_data"
    }
   ],
   "source": [
    "df.Age.plot(kind='hist', bins=10, title='Histogram of Age.')"
   ]
  },
  {
   "cell_type": "markdown",
   "metadata": {},
   "source": [
    "## The rest of the variables seem to be fine once converting the NaN to median in the 8 columns and setting categorical fields to 'unknown'."
   ]
  },
  {
   "cell_type": "markdown",
   "metadata": {},
   "source": [
    "# Re-expressing the values of columns as numeric that have only yes no responses or categorical responses that can be re-expressed"
   ]
  },
  {
   "cell_type": "code",
   "execution_count": 719,
   "metadata": {},
   "outputs": [],
   "source": [
    "list_of_yes_no_columns = [\n",
    "'Churn',\n",
    "'Area',\n",
    "'Education',\n",
    "'Marital',\n",
    "'Gender',\n",
    "'Contract',\n",
    "'Techie',\n",
    "'Port_modem',\n",
    "'Tablet',\n",
    "'InternetService',\n",
    "'Phone',\n",
    "'Multiple',\n",
    "'OnlineSecurity',\n",
    "'OnlineBackup',\n",
    "'DeviceProtection',\n",
    "'TechSupport',\n",
    "'StreamingTV',\n",
    "'StreamingMovies', \n",
    "'PaperlessBilling']"
   ]
  },
  {
   "cell_type": "markdown",
   "metadata": {},
   "source": [
    "# Churn"
   ]
  },
  {
   "cell_type": "code",
   "execution_count": 720,
   "metadata": {},
   "outputs": [],
   "source": [
    "dict_churn_categories_numeric = {'Churn':{'No':0,'Yes':1}}"
   ]
  },
  {
   "cell_type": "code",
   "execution_count": 721,
   "metadata": {},
   "outputs": [],
   "source": [
    "df.replace(dict_churn_categories_numeric, inplace=True)"
   ]
  },
  {
   "cell_type": "code",
   "execution_count": 722,
   "metadata": {},
   "outputs": [
    {
     "data": {
      "text/plain": [
       "array([0, 1])"
      ]
     },
     "execution_count": 722,
     "metadata": {},
     "output_type": "execute_result"
    }
   ],
   "source": [
    "df.Churn.unique()"
   ]
  },
  {
   "cell_type": "markdown",
   "metadata": {},
   "source": [
    "# Area"
   ]
  },
  {
   "cell_type": "code",
   "execution_count": 723,
   "metadata": {},
   "outputs": [],
   "source": [
    "dict_area_categories_numeric = {\"Area\":{'Urban':0, 'Suburban':1, 'Rural':2}}"
   ]
  },
  {
   "cell_type": "code",
   "execution_count": 724,
   "metadata": {},
   "outputs": [],
   "source": [
    "df.replace(dict_area_categories_numeric, inplace=True)"
   ]
  },
  {
   "cell_type": "code",
   "execution_count": 725,
   "metadata": {},
   "outputs": [
    {
     "data": {
      "text/plain": [
       "array([0, 1, 2])"
      ]
     },
     "execution_count": 725,
     "metadata": {},
     "output_type": "execute_result"
    }
   ],
   "source": [
    "df.Area.unique()"
   ]
  },
  {
   "cell_type": "markdown",
   "metadata": {},
   "source": [
    "# Education"
   ]
  },
  {
   "cell_type": "code",
   "execution_count": 726,
   "metadata": {},
   "outputs": [],
   "source": [
    "dict_education_categories_numeric = {'Education': {\n",
    "    'Doctorate Degree':22,\n",
    "    \"Master's Degree\":19,\n",
    "    \"Bachelor's Degree\":16,\n",
    "    \"Associate's Degree\":14, \n",
    "    'Some College, 1 or More Years, No Degree':13,\n",
    "    'Some College, Less than 1 Year':13,\n",
    "    'Professional School Degree':12, \n",
    "    'Regular High School Diploma':12,\n",
    "    'GED or Alternative Credential':10,\n",
    "    '9th Grade to 12th Grade, No Diploma':10,\n",
    "    'Nursery School to 8th Grade':8,\n",
    "    'No Schooling Completed':0, \n",
    "}}"
   ]
  },
  {
   "cell_type": "code",
   "execution_count": 727,
   "metadata": {},
   "outputs": [],
   "source": [
    "df.replace(dict_education_categories_numeric, inplace = True)"
   ]
  },
  {
   "cell_type": "code",
   "execution_count": 728,
   "metadata": {},
   "outputs": [
    {
     "data": {
      "text/plain": [
       "array([19, 12, 22,  0, 14, 16, 13, 10,  8])"
      ]
     },
     "execution_count": 728,
     "metadata": {},
     "output_type": "execute_result"
    }
   ],
   "source": [
    "df.Education.unique()"
   ]
  },
  {
   "cell_type": "markdown",
   "metadata": {},
   "source": [
    "# Marital"
   ]
  },
  {
   "cell_type": "code",
   "execution_count": 729,
   "metadata": {},
   "outputs": [],
   "source": [
    "dict_marital_categories_numeric = {'Marital':{\n",
    "    'Never Married':0,\n",
    "    'Married':1,\n",
    "    'Widowed':2,\n",
    "    'Separated':3,\n",
    "    'Divorced':4}}\n",
    "\n",
    "\n",
    "\n",
    "\n"
   ]
  },
  {
   "cell_type": "code",
   "execution_count": 730,
   "metadata": {},
   "outputs": [],
   "source": [
    "df.replace(dict_marital_categories_numeric, inplace = True)"
   ]
  },
  {
   "cell_type": "code",
   "execution_count": 731,
   "metadata": {},
   "outputs": [
    {
     "data": {
      "text/plain": [
       "array([2, 1, 3, 0, 4])"
      ]
     },
     "execution_count": 731,
     "metadata": {},
     "output_type": "execute_result"
    }
   ],
   "source": [
    "df.Marital.unique()"
   ]
  },
  {
   "cell_type": "markdown",
   "metadata": {},
   "source": [
    "# Gender"
   ]
  },
  {
   "cell_type": "code",
   "execution_count": 732,
   "metadata": {},
   "outputs": [],
   "source": [
    "dict_gender_categories_numeric = {'Gender': {\n",
    "    'Male':0,\n",
    "    'Female':1,\n",
    "    'Prefer not to answer':2\n",
    "}}"
   ]
  },
  {
   "cell_type": "code",
   "execution_count": 733,
   "metadata": {},
   "outputs": [],
   "source": [
    "df.replace(dict_gender_categories_numeric, inplace = True)"
   ]
  },
  {
   "cell_type": "code",
   "execution_count": 734,
   "metadata": {},
   "outputs": [
    {
     "data": {
      "text/plain": [
       "array([0, 1, 2])"
      ]
     },
     "execution_count": 734,
     "metadata": {},
     "output_type": "execute_result"
    }
   ],
   "source": [
    "df.Gender.unique()"
   ]
  },
  {
   "cell_type": "markdown",
   "metadata": {},
   "source": [
    "# Contract"
   ]
  },
  {
   "cell_type": "code",
   "execution_count": 735,
   "metadata": {},
   "outputs": [],
   "source": [
    "dict_contract_categories_numeric = {'Contract': {'Month-to-month':0,'One year':1, 'Two Year':2}}"
   ]
  },
  {
   "cell_type": "code",
   "execution_count": 736,
   "metadata": {},
   "outputs": [],
   "source": [
    "df.replace(dict_contract_categories_numeric, inplace = True)"
   ]
  },
  {
   "cell_type": "code",
   "execution_count": 737,
   "metadata": {},
   "outputs": [
    {
     "data": {
      "text/plain": [
       "array([1, 0, 2])"
      ]
     },
     "execution_count": 737,
     "metadata": {},
     "output_type": "execute_result"
    }
   ],
   "source": [
    "df.Contract.unique()"
   ]
  },
  {
   "cell_type": "markdown",
   "metadata": {},
   "source": [
    "# Techie"
   ]
  },
  {
   "cell_type": "code",
   "execution_count": 738,
   "metadata": {},
   "outputs": [],
   "source": [
    "dict_techie_categories_numeric = {'Techie': {'No':0,'Yes':1,'unknown':2}}"
   ]
  },
  {
   "cell_type": "code",
   "execution_count": 739,
   "metadata": {},
   "outputs": [],
   "source": [
    "df.replace(dict_techie_categories_numeric, inplace = True)"
   ]
  },
  {
   "cell_type": "code",
   "execution_count": 740,
   "metadata": {},
   "outputs": [
    {
     "data": {
      "text/plain": [
       "array([0, 1, 2])"
      ]
     },
     "execution_count": 740,
     "metadata": {},
     "output_type": "execute_result"
    }
   ],
   "source": [
    "df.Techie.unique()"
   ]
  },
  {
   "cell_type": "markdown",
   "metadata": {},
   "source": [
    "# Port_modem"
   ]
  },
  {
   "cell_type": "code",
   "execution_count": 741,
   "metadata": {},
   "outputs": [],
   "source": [
    "dict_port_modem_categories_numeric = {'Port_modem':{'No':0,'Yes':1}}"
   ]
  },
  {
   "cell_type": "code",
   "execution_count": 742,
   "metadata": {},
   "outputs": [],
   "source": [
    "df.replace(dict_port_modem_categories_numeric, inplace = True)"
   ]
  },
  {
   "cell_type": "code",
   "execution_count": 743,
   "metadata": {},
   "outputs": [
    {
     "data": {
      "text/plain": [
       "array([1, 0])"
      ]
     },
     "execution_count": 743,
     "metadata": {},
     "output_type": "execute_result"
    }
   ],
   "source": [
    "df.Port_modem.unique()"
   ]
  },
  {
   "cell_type": "markdown",
   "metadata": {},
   "source": [
    "# Tablet"
   ]
  },
  {
   "cell_type": "code",
   "execution_count": 744,
   "metadata": {},
   "outputs": [],
   "source": [
    "dict_tablet_categories_numeric = {'Tablet': {'No':0,'Yes':1}}"
   ]
  },
  {
   "cell_type": "code",
   "execution_count": 745,
   "metadata": {},
   "outputs": [],
   "source": [
    "df.replace(dict_tablet_categories_numeric, inplace = True)"
   ]
  },
  {
   "cell_type": "code",
   "execution_count": 746,
   "metadata": {},
   "outputs": [
    {
     "data": {
      "text/plain": [
       "array([1, 0])"
      ]
     },
     "execution_count": 746,
     "metadata": {},
     "output_type": "execute_result"
    }
   ],
   "source": [
    "df.Tablet.unique()"
   ]
  },
  {
   "cell_type": "markdown",
   "metadata": {},
   "source": [
    "# InternetService"
   ]
  },
  {
   "cell_type": "code",
   "execution_count": 747,
   "metadata": {},
   "outputs": [],
   "source": [
    "dict_internet_service_categories_numeric = {'InternetService': {'Fiber Optic':2, 'DSL':1, 'None':0}}"
   ]
  },
  {
   "cell_type": "code",
   "execution_count": 748,
   "metadata": {},
   "outputs": [],
   "source": [
    "df.replace(dict_internet_service_categories_numeric, inplace = True)"
   ]
  },
  {
   "cell_type": "code",
   "execution_count": 749,
   "metadata": {},
   "outputs": [
    {
     "data": {
      "text/plain": [
       "array([2, 1, 0])"
      ]
     },
     "execution_count": 749,
     "metadata": {},
     "output_type": "execute_result"
    }
   ],
   "source": [
    "df.InternetService.unique()"
   ]
  },
  {
   "cell_type": "markdown",
   "metadata": {},
   "source": [
    "# Phone"
   ]
  },
  {
   "cell_type": "code",
   "execution_count": 750,
   "metadata": {},
   "outputs": [],
   "source": [
    "dict_phone_categories_numeric = {'Phone':{'No':0, 'Yes':1, 'unknown':2}}"
   ]
  },
  {
   "cell_type": "code",
   "execution_count": 751,
   "metadata": {},
   "outputs": [],
   "source": [
    "df.replace(dict_phone_categories_numeric, inplace = True)"
   ]
  },
  {
   "cell_type": "code",
   "execution_count": 752,
   "metadata": {},
   "outputs": [
    {
     "data": {
      "text/plain": [
       "array([1, 0, 2])"
      ]
     },
     "execution_count": 752,
     "metadata": {},
     "output_type": "execute_result"
    }
   ],
   "source": [
    "df.Phone.unique()"
   ]
  },
  {
   "cell_type": "markdown",
   "metadata": {},
   "source": [
    "# Multiple"
   ]
  },
  {
   "cell_type": "code",
   "execution_count": 753,
   "metadata": {},
   "outputs": [],
   "source": [
    "dict_multiple_categories_numeric = {'Multiple':{'No':0, 'Yes':1}}"
   ]
  },
  {
   "cell_type": "code",
   "execution_count": 754,
   "metadata": {},
   "outputs": [],
   "source": [
    "df.replace(dict_multiple_categories_numeric, inplace = True)"
   ]
  },
  {
   "cell_type": "code",
   "execution_count": 755,
   "metadata": {},
   "outputs": [
    {
     "data": {
      "text/plain": [
       "array([0, 1])"
      ]
     },
     "execution_count": 755,
     "metadata": {},
     "output_type": "execute_result"
    }
   ],
   "source": [
    "df.Multiple.unique()"
   ]
  },
  {
   "cell_type": "markdown",
   "metadata": {},
   "source": [
    "# OnlineSecurity"
   ]
  },
  {
   "cell_type": "code",
   "execution_count": 756,
   "metadata": {},
   "outputs": [],
   "source": [
    "dict_online_security_categories_numeric = {'OnlineSecurity':{'No':0,'Yes':1}}"
   ]
  },
  {
   "cell_type": "code",
   "execution_count": 757,
   "metadata": {},
   "outputs": [],
   "source": [
    "df.replace(dict_online_security_categories_numeric, inplace = True)"
   ]
  },
  {
   "cell_type": "code",
   "execution_count": 758,
   "metadata": {},
   "outputs": [
    {
     "data": {
      "text/plain": [
       "array([1, 0])"
      ]
     },
     "execution_count": 758,
     "metadata": {},
     "output_type": "execute_result"
    }
   ],
   "source": [
    "df.OnlineSecurity.unique()"
   ]
  },
  {
   "cell_type": "markdown",
   "metadata": {},
   "source": [
    "# OnlineBackup"
   ]
  },
  {
   "cell_type": "code",
   "execution_count": 759,
   "metadata": {},
   "outputs": [],
   "source": [
    "dict_online_backup_categories_numeric = {'OnlineBackup':{'No':0,'Yes':1}}"
   ]
  },
  {
   "cell_type": "code",
   "execution_count": 760,
   "metadata": {},
   "outputs": [],
   "source": [
    "df.replace(dict_online_backup_categories_numeric, inplace = True)"
   ]
  },
  {
   "cell_type": "code",
   "execution_count": 761,
   "metadata": {},
   "outputs": [
    {
     "data": {
      "text/plain": [
       "array([1, 0])"
      ]
     },
     "execution_count": 761,
     "metadata": {},
     "output_type": "execute_result"
    }
   ],
   "source": [
    "df.OnlineBackup.unique()"
   ]
  },
  {
   "cell_type": "markdown",
   "metadata": {},
   "source": [
    "# DeviceProtection"
   ]
  },
  {
   "cell_type": "code",
   "execution_count": 762,
   "metadata": {},
   "outputs": [],
   "source": [
    "dict_device_protection_categories_numeric = {'DeviceProtection':{'No':0,'Yes':1}}"
   ]
  },
  {
   "cell_type": "code",
   "execution_count": 763,
   "metadata": {},
   "outputs": [],
   "source": [
    "df.replace(dict_device_protection_categories_numeric, inplace = True)"
   ]
  },
  {
   "cell_type": "code",
   "execution_count": 764,
   "metadata": {},
   "outputs": [
    {
     "data": {
      "text/plain": [
       "array([0, 1])"
      ]
     },
     "execution_count": 764,
     "metadata": {},
     "output_type": "execute_result"
    }
   ],
   "source": [
    "df.DeviceProtection.unique()"
   ]
  },
  {
   "cell_type": "markdown",
   "metadata": {},
   "source": [
    "# TechSupport"
   ]
  },
  {
   "cell_type": "code",
   "execution_count": 765,
   "metadata": {},
   "outputs": [],
   "source": [
    "dict_tech_support_categories_numeric = {'TechSupport':{'No':0, 'Yes':1, 'unknown':2}}"
   ]
  },
  {
   "cell_type": "code",
   "execution_count": 766,
   "metadata": {},
   "outputs": [],
   "source": [
    "df.replace(dict_tech_support_categories_numeric, inplace = True)"
   ]
  },
  {
   "cell_type": "code",
   "execution_count": 767,
   "metadata": {},
   "outputs": [
    {
     "data": {
      "text/plain": [
       "array([0, 1, 2])"
      ]
     },
     "execution_count": 767,
     "metadata": {},
     "output_type": "execute_result"
    }
   ],
   "source": [
    "df.TechSupport.unique()"
   ]
  },
  {
   "cell_type": "markdown",
   "metadata": {},
   "source": [
    "# StreamingTV"
   ]
  },
  {
   "cell_type": "code",
   "execution_count": 768,
   "metadata": {},
   "outputs": [],
   "source": [
    "dict_streamingtv_categories_numeric = {'StreamingTV':{'No':0, 'Yes':1}}"
   ]
  },
  {
   "cell_type": "code",
   "execution_count": 769,
   "metadata": {},
   "outputs": [],
   "source": [
    "df.replace(dict_streamingtv_categories_numeric, inplace = True)"
   ]
  },
  {
   "cell_type": "code",
   "execution_count": 770,
   "metadata": {},
   "outputs": [
    {
     "data": {
      "text/plain": [
       "array([0, 1])"
      ]
     },
     "execution_count": 770,
     "metadata": {},
     "output_type": "execute_result"
    }
   ],
   "source": [
    "df.StreamingTV.unique()"
   ]
  },
  {
   "cell_type": "markdown",
   "metadata": {},
   "source": [
    "# StreamingMovies"
   ]
  },
  {
   "cell_type": "code",
   "execution_count": 771,
   "metadata": {},
   "outputs": [],
   "source": [
    "dict_streaming_movies_categories_numeric = {'StreamingMovies':{'No':0, 'Yes':1}}"
   ]
  },
  {
   "cell_type": "code",
   "execution_count": 772,
   "metadata": {},
   "outputs": [],
   "source": [
    "df.replace(dict_streaming_movies_categories_numeric, inplace = True)"
   ]
  },
  {
   "cell_type": "code",
   "execution_count": 773,
   "metadata": {},
   "outputs": [
    {
     "data": {
      "text/plain": [
       "array([1, 0])"
      ]
     },
     "execution_count": 773,
     "metadata": {},
     "output_type": "execute_result"
    }
   ],
   "source": [
    "df.StreamingMovies.unique()"
   ]
  },
  {
   "cell_type": "markdown",
   "metadata": {},
   "source": [
    " \n",
    "# PaperlessBilling"
   ]
  },
  {
   "cell_type": "code",
   "execution_count": 774,
   "metadata": {},
   "outputs": [],
   "source": [
    "dict_paperless_billing_categories_numeric = {'PaperlessBilling':{'No':0, 'Yes':1}}"
   ]
  },
  {
   "cell_type": "code",
   "execution_count": 775,
   "metadata": {},
   "outputs": [],
   "source": [
    "df.replace(dict_paperless_billing_categories_numeric, inplace = True)"
   ]
  },
  {
   "cell_type": "code",
   "execution_count": 776,
   "metadata": {},
   "outputs": [
    {
     "data": {
      "text/plain": [
       "array([1, 0])"
      ]
     },
     "execution_count": 776,
     "metadata": {},
     "output_type": "execute_result"
    }
   ],
   "source": [
    "df.PaperlessBilling.unique()"
   ]
  },
  {
   "cell_type": "markdown",
   "metadata": {},
   "source": [
    "dict_techie_categories_numeric = {'Techie': {'No':0,'Yes':1,'unknown':2}}\n",
    "dict_port_modem_categories_numeric = {'Port_modem':{'No':0,'Yes':1}}\n",
    "dict_tablet_categories_numeric = {'Tablet': {'No':0,'Yes':1}}\n",
    "dict_internet_service_categories_numeric = {'InternetService': {'Fiber Optic':2, 'DSL':1, 'None':0}}\n",
    "dict_phone_categories_numeric = {'Phone':{'No':0, 'Yes':1, 'unknown':2}}\n",
    "dict_multiple_categories_numeric = {'Multiple':{'No':0, 'Yes':1}}\n",
    "dict_online_security_categories_numeric = {'OnlineSecurity':{'No':0,'Yes':1}}\n",
    "dict_online_backup_categories_numeric = {'OnlineBackup':{'No':0,'Yes':1}}\n",
    "dict_device_protection_categories_numeric = {'DeviceProtection':{'No':0,'Yes':1}}\n",
    "dict_tech_support_categories_numeric = {'TechSupport':{'No':0, 'Yes':1, 'unknown':2}}\n",
    "dict_streamingtv_categories_numeric = {'StreamingTV':{'No':0, 'Yes':1}}\n",
    "dict_streamingtv_categories_numeric = {'StreamingTV':{'No':0, 'Yes':1}}\n",
    "dict_streaming_movies_categories_numeric = {'StreamingMovies':{'No':0, 'Yes':1}}\n",
    "dict_paperless_billing_categories_numeric = {'PaperlessBilling':{'No':0, 'Yes':1}}"
   ]
  },
  {
   "cell_type": "markdown",
   "metadata": {},
   "source": [
    "# Part III: Data Cleaning"
   ]
  },
  {
   "cell_type": "markdown",
   "metadata": {},
   "source": [
    "## D.  Summarize the data-cleaning process by doing the following:\n",
    "\n",
    "1.  Describe the findings, including all anomalies, from the implementation of the data-cleaning plan from part C.\n",
    "\n",
    "2.  Justify your methods for mitigating each type of discovered anomaly in the data set.\n",
    "\n",
    "3.  Summarize the outcome from the implementation of each data-cleaning step.\n",
    "\n",
    "4.  Provide the code used to mitigate anomalies.\n",
    "\n",
    "5.  Provide a copy of the cleaned data set.\n",
    "\n",
    "6.  Summarize the limitations of the data-cleaning process.\n",
    "\n",
    "7.  Discuss how the limitations in part D6 affect the analysis of the question or decision from part A."
   ]
  },
  {
   "cell_type": "markdown",
   "metadata": {},
   "source": [
    "## E.  Apply principal component analysis (PCA) to identify the significant features of the data set by doing the following:\n",
    "\n",
    "1.  List the principal components in the data set.\n",
    "\n",
    "2.  Describe how you identified the principal components of the data set.\n",
    "\n",
    "3.  Describe how the organization can benefit from the results of the PCA"
   ]
  },
  {
   "cell_type": "markdown",
   "metadata": {},
   "source": [
    "# Part IV. Supporting Documents"
   ]
  },
  {
   "cell_type": "markdown",
   "metadata": {},
   "source": [
    "## F.  Provide a Panopto recording that demonstrates the warning- and error-free functionality of the code used to support the discovery of anomalies and the data cleaning process and summarizes the programming environment.\n",
    " \n",
    "\n",
    "Note: For instructions on how to access and use Panopto, use the \"Panopto How-To Videos\" web link provided below. To access Panopto's website, navigate to the web link titled \"Panopto Access\", and then choose to log in using the “WGU” option. If prompted, log in using your WGU student portal credentials, and then it will forward you to Panopto’s website.\n",
    " \n",
    "\n",
    "To submit your recording, upload it to the Panopto drop box titled “Data Cleaning – NUM2 \\ D206” Once the recording has been uploaded and processed in Panopto's system, retrieve the URL of the recording from Panopto and copy and paste it into the Links option. Upload the remaining task requirements using the Attachments option."
   ]
  },
  {
   "cell_type": "markdown",
   "metadata": {},
   "source": [
    "## G.  Reference the web sources used to acquire segments of third-party code to support the application. Be sure the web sources are reliable."
   ]
  },
  {
   "cell_type": "markdown",
   "metadata": {},
   "source": [
    "## H.  Acknowledge sources, using in-text citations and references, for content that is quoted, paraphrased, or summarized."
   ]
  },
  {
   "cell_type": "markdown",
   "metadata": {},
   "source": [
    "## I.  Demonstrate professional communication in the content and presentation of your submission."
   ]
  }
 ],
 "metadata": {
  "kernelspec": {
   "display_name": "Python 3",
   "language": "python",
   "name": "python3"
  },
  "language_info": {
   "codemirror_mode": {
    "name": "ipython",
    "version": 3
   },
   "file_extension": ".py",
   "mimetype": "text/x-python",
   "name": "python",
   "nbconvert_exporter": "python",
   "pygments_lexer": "ipython3",
   "version": "3.8.5"
  },
  "toc": {
   "base_numbering": "1",
   "nav_menu": {},
   "number_sections": false,
   "sideBar": true,
   "skip_h1_title": false,
   "title_cell": "Table of Contents",
   "title_sidebar": "Contents",
   "toc_cell": false,
   "toc_position": {},
   "toc_section_display": true,
   "toc_window_display": true
  }
 },
 "nbformat": 4,
 "nbformat_minor": 4
}
