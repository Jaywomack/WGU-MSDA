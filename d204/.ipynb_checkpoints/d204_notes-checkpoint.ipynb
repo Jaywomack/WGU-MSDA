{
 "cells": [
  {
   "cell_type": "markdown",
   "metadata": {
    "toc": true
   },
   "source": [
    "<h1>Table of Contents<span class=\"tocSkip\"></span></h1>\n",
    "<div class=\"toc\"><ul class=\"toc-item\"><li><ul class=\"toc-item\"><li><span><a href=\"#Notes-From-Video-LinkedIn-Data-Science-Foundations-Fundamentals\" data-toc-modified-id=\"Notes-From-Video-LinkedIn-Data-Science-Foundations-Fundamentals-0.1\"><span class=\"toc-item-num\">0.1&nbsp;&nbsp;</span>Notes From Video <br><a style=\"color: #f5f5f5\" href=\"https://www.linkedin.com/learning/data-science-foundations-fundamentals-6\" target=\"_blank\">LinkedIn Data Science Foundations Fundamentals</a></a></span></li></ul></li><li><span><a href=\"#What-is-Data-Science\" data-toc-modified-id=\"What-is-Data-Science-1\"><span class=\"toc-item-num\">1&nbsp;&nbsp;</span>What is Data Science</a></span><ul class=\"toc-item\"><li><span><a href=\"#Supply-and-Demand-of-Data-Scientists\" data-toc-modified-id=\"Supply-and-Demand-of-Data-Scientists-1.1\"><span class=\"toc-item-num\">1.1&nbsp;&nbsp;</span>Supply and Demand of Data Scientists</a></span></li><li><span><a href=\"#The-data-science-Venn-diagram\" data-toc-modified-id=\"The-data-science-Venn-diagram-1.2\"><span class=\"toc-item-num\">1.2&nbsp;&nbsp;</span>The data science Venn diagram</a></span></li><li><span><a href=\"#-The-data-science-Pathway\" data-toc-modified-id=\"-The-data-science-Pathway-1.3\"><span class=\"toc-item-num\">1.3&nbsp;&nbsp;</span> The data science Pathway</a></span></li><li><span><a href=\"#Planning:\" data-toc-modified-id=\"Planning:-1.4\"><span class=\"toc-item-num\">1.4&nbsp;&nbsp;</span>Planning:</a></span></li><li><span><a href=\"#Wrangling-Data\" data-toc-modified-id=\"Wrangling-Data-1.5\"><span class=\"toc-item-num\">1.5&nbsp;&nbsp;</span>Wrangling Data</a></span></li><li><span><a href=\"#Modeling\" data-toc-modified-id=\"Modeling-1.6\"><span class=\"toc-item-num\">1.6&nbsp;&nbsp;</span>Modeling</a></span></li><li><span><a href=\"#Applying\" data-toc-modified-id=\"Applying-1.7\"><span class=\"toc-item-num\">1.7&nbsp;&nbsp;</span>Applying</a></span></li><li><span><a href=\"#Roles-and-teams-in-data-science\" data-toc-modified-id=\"Roles-and-teams-in-data-science-1.8\"><span class=\"toc-item-num\">1.8&nbsp;&nbsp;</span>Roles and teams in data science</a></span></li></ul></li><li><span><a href=\"#The-Place-of-Data-Science-in-the-Data-Universe\" data-toc-modified-id=\"The-Place-of-Data-Science-in-the-Data-Universe-2\"><span class=\"toc-item-num\">2&nbsp;&nbsp;</span>The Place of Data Science in the Data Universe</a></span><ul class=\"toc-item\"><li><span><a href=\"#Artificial-Intelligence\" data-toc-modified-id=\"Artificial-Intelligence-2.1\"><span class=\"toc-item-num\">2.1&nbsp;&nbsp;</span>Artificial Intelligence</a></span></li><li><span><a href=\"#Machine-learning\" data-toc-modified-id=\"Machine-learning-2.2\"><span class=\"toc-item-num\">2.2&nbsp;&nbsp;</span>Machine learning</a></span></li><li><span><a href=\"#Deep-learning-and-neural-networks\" data-toc-modified-id=\"Deep-learning-and-neural-networks-2.3\"><span class=\"toc-item-num\">2.3&nbsp;&nbsp;</span>Deep learning and neural networks</a></span></li><li><span><a href=\"#Big-Data\" data-toc-modified-id=\"Big-Data-2.4\"><span class=\"toc-item-num\">2.4&nbsp;&nbsp;</span>Big Data</a></span></li><li><span><a href=\"#Predictive-Analytics\" data-toc-modified-id=\"Predictive-Analytics-2.5\"><span class=\"toc-item-num\">2.5&nbsp;&nbsp;</span>Predictive Analytics</a></span></li><li><span><a href=\"#Prescriptive-analytics\" data-toc-modified-id=\"Prescriptive-analytics-2.6\"><span class=\"toc-item-num\">2.6&nbsp;&nbsp;</span>Prescriptive analytics</a></span></li><li><span><a href=\"#Business-Intelligence\" data-toc-modified-id=\"Business-Intelligence-2.7\"><span class=\"toc-item-num\">2.7&nbsp;&nbsp;</span>Business Intelligence</a></span></li></ul></li></ul></div>"
   ]
  },
  {
   "cell_type": "markdown",
   "metadata": {},
   "source": [
    "<div style='background-image:url(\"https://images.unsplash.com/photo-1495592822108-9e6261896da8?ixid=MXwxMjA3fDB8MHxzZWFyY2h8OXx8ZGF0YSUyMHNjaWVuY2V8ZW58MHx8MHw%3D&ixlib=rb-1.2.1&auto=format&fit=crop&w=500&q=60\"); height:800px; display:flex; text-align:center;'>\n",
    "\n",
    "<h2 style=\" color:#f5f5f5; font-size:35px; text-align:center; margin:auto auto;\">Notes From Video <br><a style=\"color:#f5f5f5;\" href='https://www.linkedin.com/learning/data-science-foundations-fundamentals-6'>LinkedIn Data Science Foundations Fundamentals</a></h2>\n",
    "</div>"
   ]
  },
  {
   "cell_type": "markdown",
   "metadata": {},
   "source": [
    "<h1>What is Data Science</h1>"
   ]
  },
  {
   "cell_type": "markdown",
   "metadata": {},
   "source": [
    "<h2>Supply and Demand of Data Scientists</h2>"
   ]
  },
  {
   "cell_type": "markdown",
   "metadata": {},
   "source": [
    "<p>The demand is far outpacing the supply when it comes to Data Science Professionals. With a constantly increasing demand and a stagnating supply data scientists are being highly rewarded for there skills with industry leading salaries and benefits that seek to attract and retain talented individuals.</p>\n",
    "\n",
    "<p>Data scientists can bring competitive advantages to orginazitions that choose to employ them. Bringing Business Intelligence a cutting edge analytics to the table that can vastly improve any orginazation.</p>"
   ]
  },
  {
   "cell_type": "markdown",
   "metadata": {},
   "source": [
    "## The data science Venn diagram"
   ]
  },
  {
   "cell_type": "markdown",
   "metadata": {},
   "source": [
    "<p>In 2013 Drew Conway proposed that substantive expertise, Mathematics, and hacking could be combined to a field of Data Science.</p>\n",
    "\n",
    "<p>Programming languages could be used for data manipulation and modeling. SQL Could be used as a query language that would allow for querying relational databases effectively and efficiently.</p>\n",
    "\n",
    "<p>Probability, linear algebra, calculus and regressuon could be used to fit data to your question and what procedures should be used to answer the question and know definitively why the results are what they are and what can be adjusted to get a better or different result.</p>\n",
    "\n",
    "<p>Substantive Expertise is simply knowledge of the domain and the goals, methods and constraints in the field. The expertise allow for an understanding of what constitutes value and how knowledge that is attained can ne implemented to improve.</p>"
   ]
  },
  {
   "cell_type": "markdown",
   "metadata": {},
   "source": [
    "<h2> The data science Pathway</h2>"
   ]
  },
  {
   "cell_type": "markdown",
   "metadata": {},
   "source": [
    "<h2>Planning:</h2>\n",
    "<ol>\n",
    "    <li>Define Goals</li>\n",
    "    <li>Organize Resources</li>\n",
    "    <li>Coordinate People</li>\n",
    "    <li>Scheduling</li>\n",
    "</ol>"
   ]
  },
  {
   "cell_type": "markdown",
   "metadata": {},
   "source": [
    "<p>Defining goals will let you know what needs to be accomplished and allow for you to know if you are on target or need to re-target.</p>\n",
    "\n",
    "<p>Organizing resources will ensure that the proper people and hardware are available.</p>\n",
    "\n",
    "<p>Coordinating people will ensure that the correct personal are there and available for the project.</p>\n",
    "\n",
    "<p>Scheduling will prevent scope creep and keep things on schedule and able to deliver the project.</p>\n",
    "\n"
   ]
  },
  {
   "cell_type": "markdown",
   "metadata": {},
   "source": [
    "<h2>Wrangling Data</h2>\n",
    "<ol>\n",
    "    <li>Get data </li>\n",
    "    <li>Clean data </li>\n",
    "    <li>Explore data </li>\n",
    "    <li>Refine data </li>\n",
    "</ol>"
   ]
  },
  {
   "cell_type": "markdown",
   "metadata": {},
   "source": [
    "<p>Getting the data that is either new, from open source, public apis etc</p>\n",
    "\n",
    "<p>Cleaning data is a very intesive process and an enormous task that gets the data ready so that it can fit into the paradigm and program that is be used with the data</p>\n",
    "\n",
    "<p>Exploring the data is where numerical summaries and data visualiztions are used to explore the data and gain insights</p>\n",
    "\n",
    "<p>Refining the data will allow for the data scientist to change or get new data to have a more complete data set for modeling the data.</p>"
   ]
  },
  {
   "cell_type": "markdown",
   "metadata": {},
   "source": [
    "<h2>Modeling</h2>\n",
    "<ol>\n",
    "    <li>Create Model</li>\n",
    "    <li>Validate Model</li>\n",
    "    <li>Evaluate Model</li>\n",
    "    <li>Refine Model</li>\n",
    "</ol>"
   ]
  },
  {
   "cell_type": "markdown",
   "metadata": {},
   "source": [
    "<p>Create the statistical mode, do regression, decision tree etc</p>\n",
    "<p>Validating the model will make sure that the model is reproducible and not a one off</p>\n",
    "<p>Evaluating and refining the model will allow a value assessment of the model that will tell you whether the model should be refined and give a chance to make tweaks and adjustments that will improve the model.  </p>"
   ]
  },
  {
   "cell_type": "markdown",
   "metadata": {},
   "source": [
    "<h2>Applying</h2>"
   ]
  },
  {
   "cell_type": "markdown",
   "metadata": {},
   "source": [
    "<ol>\n",
    "    <li>Present Model</li>\n",
    "    <li>Deploy Model</li>\n",
    "    <li>Revisit Model</li>\n",
    "    <li>Archive assets</li>\n",
    "</ol>"
   ]
  },
  {
   "cell_type": "markdown",
   "metadata": {},
   "source": [
    "<p>Show all of the stakeholders what you have found and learned</p>\n",
    "<p>Deploy to production and host it wherever applicable. Make available to customers</p>\n",
    "<p>Revisiting the model will allow to make a final analysis and a good chance to improve upon things learned</p>\n",
    "<p>Documenting the data and making things future proof so that it is easier to manage and the ROI is maximized</p>"
   ]
  },
  {
   "cell_type": "markdown",
   "metadata": {},
   "source": [
    "<h2>Roles and teams in data science</h2>"
   ]
  },
  {
   "cell_type": "markdown",
   "metadata": {},
   "source": [
    "<p>Engineers are the developers and system architects that make the foundation for everything that is available in the field of data science. They make the software and hardware that makes data science possible</p>\n",
    "\n",
    "<p>Machine learning specialists are people who have extensive computer science and mathematics abilities that allow them to do deep learnign and artificial intelligence</p>\n",
    "\n",
    "<p>Researchers are resposible for understanding topical areas that allow them to connect with data science so that they can answers questions in their fields of study. They often have statistical expertise.</p>\n",
    "\n",
    "<p>Data Analysts are responsible for the day to day data tasks that are neseccary for businesses to run. Web analytics, sql, visualization are for good business decision making and are the bread and butter of data analysts jobs.</p>\n",
    "\n",
    "<p>Managers manage data and science projects and need to be have a high level understanding of the different tools and people that are available to them so that they can deliver on projects.</p>\n",
    "\n",
    "<p>Entrepreneurs are often data startups or similar roles where a person possess the business accumen as well as all of the needed data skilsl to deliver a product </p>\n",
    "\n",
    "<p>Unicorn is a ninja or rockstar that know everything. They are rare and it is a better to have a redundancy than to depend on one person</p>"
   ]
  },
  {
   "cell_type": "markdown",
   "metadata": {},
   "source": [
    "<h1>The Place of Data Science in the Data Universe</h1>"
   ]
  },
  {
   "cell_type": "markdown",
   "metadata": {},
   "source": [
    "<h2>Artificial Intelligence</h2>"
   ]
  },
  {
   "cell_type": "markdown",
   "metadata": {},
   "source": [
    "<p>Categories are constructs and they serve a functional purpose that is determined by its utility. Categories vary by need.</p>\n",
    "\n",
    "<p>Artificial Intelligence is something that computers can't do or something that normally requires humans. Artifical Intelligence can best be desribed as a program that learn and improve through repetition and trial and error.</p>\n",
    "\n",
    "<p>AI has made huge leaps in translations and has made translations make massive leaps over the recent couple years</p>\n",
    "\n",
    "<p>AI is usually referring to machine learning algorithims and deep learning networks.</p>\n",
    "<p>Strong or General AI is a replica of teh human brain that can solve any cognitive task. While Weak or Narrow AI is algorithm that work on one specific well defined task like identifying pictures. </p>\n",
    "\n",
    "<p><strong>AI and machine learning have a broad overlap and AI always involves the data science skillset, but there is a huge amount of data science that does not involve artificial intelligence. See Figure below.</strong></p>"
   ]
  },
  {
   "cell_type": "markdown",
   "metadata": {},
   "source": [
    "<div style=\"height:400px; background-image: url('https://qph.fs.quoracdn.net/main-qimg-a98a14d954c1b0e4407e191f8a5b9445'); background-repeat:no-repeat;\">\n",
    "</div>"
   ]
  },
  {
   "cell_type": "markdown",
   "metadata": {},
   "source": [
    "<h2>Machine learning</h2>"
   ]
  },
  {
   "cell_type": "markdown",
   "metadata": {},
   "source": [
    "<p>The ability for machines to learn from data and improve</p>\n",
    "<p>For humans memorization is hard but seeing patterns and reacting to new situations is easy.</p>\n",
    "<p>For Machines memorization is easy, but spotting patterns and new situations can be extremely challenging for machines</p>\n",
    "<p>Machine learning can be noticed in spam filters, image identification and the translation of languages which is getting better and better by the day.</p>\n",
    "<p>Training the machine by showing the algorithm millions of examples so that the algorithim can find its own distintive features. These features may not be visible or even relevant to humans. Algorithms can notice very subtle things that humans don't.</p>\n",
    "<p>Once a machine has been taught; a neural network can be used in conjunction with the advances in computing power and labeled data (mostly from social media). These neural networks take information and process it so that computations can be made that allow for abstract thought and learning.</p>\n",
    "\n",
    "<p>Data Science without machine learning can use traditional classification, predective models, and sentiment analysis while machine learning is not nearly as useful without data science. Machine learning should be thought of as a subset of data science.</p>"
   ]
  },
  {
   "cell_type": "markdown",
   "metadata": {},
   "source": [
    "<h2>Deep learning and neural networks</h2>"
   ]
  },
  {
   "cell_type": "markdown",
   "metadata": {},
   "source": [
    "<p>Neural networks that improve with small amounts of data can eventually become extemely powerful</p>\n",
    "<p>Input in the form of raw data gets passed along to one or more hidden networks before it is finally output from an output layer.</p>\n",
    "<div style='margin-top:25px; height:600px; background-image: url(\"https://groupfuturista.com/blog/wp-content/uploads/2019/03/Artificial-Neural-Networks-Man-vs-Machine-735x400.jpeg\"); background-repeat:no-repeat;'></div>\n",
    "\n",
    "<p><strong>Inference</strong></p>\n",
    "<p>Inference is unsing methods that psychological methods similar to how psycologists use on humans. </p>\n",
    "<p>there are some legal issues that have to do with peoples rights to know when a neural network has denied them something such as a loan application. It is essential to have an understanding of legal matters as it relates to data and what is done with that data.</p>"
   ]
  },
  {
   "cell_type": "markdown",
   "metadata": {},
   "source": [
    "<h2>Big Data</h2>\n",
    "<p>Big Data can be characterised by all or any of the following:</p>\n",
    "<ol>\n",
    "    <li>Unusual volume</li>\n",
    "    <li>Unusual velocity</li>\n",
    "    <li>Unusual variety</li>\n",
    "</ol>\n",
    "\n",
    "<p>The amount of volume of data from transactions, consumer loyalty, gps, scientific data and social media amongst numerous other sources have created an overwhelming amount of data that has brought along technologies to deal with the sheer amount of data, one of these technologies is distributed file systems like Hadoop.</p>\n",
    "<p>The velocity of data is coming in at an alarming pace and new methods and technologies are constantly being created and improved to deal with the velocity of the data.</p>\n",
    "<p>The variety of data has continued to increase with multimedia data, biometrics, graph data from social networks and numerous others in the IOT.</p>\n",
    "\n",
    "<p>Big data can be done without data science as long as it is structured and simple. Data Science without Big data is also possible with programming apptitude and the ability to sort and clean data.</p>\n",
    "<p>Big data isn't dead. Its just become so common;  big data is so integrated in data science that it has become the norm, and big data sets are regularly accepted and technologies exist to deal with them effectively.</p>\n"
   ]
  },
  {
   "cell_type": "markdown",
   "metadata": {},
   "source": [
    "<h2>Predictive Analytics</h2>\n",
    "<p>Using data to predict outcomes.</p>\n",
    "<p>Makes predictions about future state of business. Forecasting volumes for example. Based on last summer and winter, what will we sell next year?</p>\n",
    "<p>clicks and purchases, risk of disease and classification of photos are large parts of predictive analytics. Large amounts of predictive analytics are done by data scientists. Complicated data sets are going to normally require data science to solve the problems that are presented.</p>\n",
    "<p>If data is common, clean  or quantitative in nature then it can be potentially be analyzed without data science.</p>\n",
    "<p>Data science without predicition can be done when clustering cases, counting, mapping or doing data visualization.</p>"
   ]
  },
  {
   "cell_type": "markdown",
   "metadata": {},
   "source": [
    "<h2>Prescriptive analytics</h2>\n",
    "<p>Cause and effect should have a observed correlation where the effect is more likely when the cause is present. Temporal precendence is where the cause needs to happen before the effect; and finally there needs to be no other explanations to the effect. It is impossible to remove any chance that something else is causing the effect, so the goal is to get as close as possible. </p>\n",
    "<p>The gold standard for establishing cause and effect is a randomized controlled trial. When the gold standard isn't possible other things such as what-if sumulations, optimization models, cross-lag correlations and an entire category of quasi-experiments.</p>\n",
    "<p>To prove casuation iteration is critical to show that a cause and effect is reproducible.</p>\n",
    "<p>Causality in theory is impossible but you can get close enough with prescriptive analytics that many extremely useful insights and decisions can be made from the data that will make a company much more valuable than if it were missing the information.</p>"
   ]
  },
  {
   "cell_type": "markdown",
   "metadata": {},
   "source": [
    "<h2>Business Intelligence</h2>\n",
    "<p>BI methods are meant to increase speed and accessability and often rely on structured dashboards that can show analytics and real time data that is easy visualized.</p>\n",
    "<p>Data science is integral in collection and cleaning of data as well as model outcomes to make sense of the data and finally find trends and anomilies within the data. </p>\n",
    "<p>Data science makes business intelligence possible. Business intelligence in turn gives purpose to data science and is great to show the real need and usefulness of data science.</p>"
   ]
  },
  {
   "cell_type": "markdown",
   "metadata": {},
   "source": []
  }
 ],
 "metadata": {
  "kernelspec": {
   "display_name": "Python 3",
   "language": "python",
   "name": "python3"
  },
  "language_info": {
   "codemirror_mode": {
    "name": "ipython",
    "version": 3
   },
   "file_extension": ".py",
   "mimetype": "text/x-python",
   "name": "python",
   "nbconvert_exporter": "python",
   "pygments_lexer": "ipython3",
   "version": "3.8.3"
  },
  "toc": {
   "base_numbering": 1,
   "nav_menu": {},
   "number_sections": true,
   "sideBar": true,
   "skip_h1_title": false,
   "title_cell": "Table of Contents",
   "title_sidebar": "Contents",
   "toc_cell": true,
   "toc_position": {
    "height": "calc(100% - 180px)",
    "left": "10px",
    "top": "150px",
    "width": "286.797px"
   },
   "toc_section_display": true,
   "toc_window_display": true
  }
 },
 "nbformat": 4,
 "nbformat_minor": 4
}
