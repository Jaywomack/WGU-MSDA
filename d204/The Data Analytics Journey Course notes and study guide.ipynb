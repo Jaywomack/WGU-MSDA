{
 "cells": [
  {
   "cell_type": "markdown",
   "metadata": {
    "toc": true
   },
   "source": [
    "<h1>Table of Contents<span class=\"tocSkip\"></span></h1>\n",
    "<div class=\"toc\"><ul class=\"toc-item\"><li><span><a href=\"#-Lesson-1\" data-toc-modified-id=\"-Lesson-1-1\"><span class=\"toc-item-num\">1&nbsp;&nbsp;</span> Lesson 1</a></span><ul class=\"toc-item\"><li><span><a href=\"#Learning-Outcomes\" data-toc-modified-id=\"Learning-Outcomes-1.1\"><span class=\"toc-item-num\">1.1&nbsp;&nbsp;</span>Learning Outcomes</a></span></li><li><span><a href=\"#Lesson-1-Video-list\" data-toc-modified-id=\"Lesson-1-Video-list-1.2\"><span class=\"toc-item-num\">1.2&nbsp;&nbsp;</span>Lesson 1 Video list</a></span></li></ul></li><li><span><a href=\"#Lesson-2\" data-toc-modified-id=\"Lesson-2-2\"><span class=\"toc-item-num\">2&nbsp;&nbsp;</span>Lesson 2</a></span><ul class=\"toc-item\"><li><span><a href=\"#Learning-Outcomes\" data-toc-modified-id=\"Learning-Outcomes-2.1\"><span class=\"toc-item-num\">2.1&nbsp;&nbsp;</span>Learning Outcomes</a></span></li><li><span><a href=\"#Lesson-2-Video-list\" data-toc-modified-id=\"Lesson-2-Video-list-2.2\"><span class=\"toc-item-num\">2.2&nbsp;&nbsp;</span>Lesson 2 Video list</a></span></li></ul></li></ul></div>"
   ]
  },
  {
   "cell_type": "markdown",
   "metadata": {},
   "source": [
    "<style>\n",
    ".red{color:blue;\n",
    "    }\n",
    "</style>\n",
    "<h1> Lesson 1</h1>\n",
    "\n",
    "<h2>Learning Outcomes</h2>\n",
    "<ol.c>\n",
    "    <li class='red'>Trace the phases of the data analytics life cycle.</li>\n",
    "    <li>Summarize the discovery phase of the data analytics life cycle.\n",
    "</li>\n",
    "    <li>Summarize the data acquisition phase of the data analytics life cycle.\n",
    "</li>\n",
    "    <li>Summarize the data exploration phase of the data analytics life cycle.\n",
    "</li>\n",
    "    <li>Summarize the predictive modeling phase of the data analytics life cycle.\n",
    "</li>\n",
    "    <li>Summarize the data mining phase of the data analytics life cycle.\n",
    "</li>\n",
    "    <li>Contextualize each phase within the data analytics life cycle.</li>\n",
    "</ol.c>\n",
    "\n",
    "<h2>Lesson 1 Video list</h2>\n",
    "<ol.c>\n",
    "    <li><a href='https://lrps.wgu.edu/provision/225152239'>Video 1</a>\n",
    "</li>\n",
    "    <li><a href='https://lrps.wgu.edu/provision/225152923'>Video 2</a>\n",
    "</li>\n",
    "    <li><a href='https://lrps.wgu.edu/provision/225153311'>Video 3</a></li>\n",
    "    <li><a href='https://lrps.wgu.edu/provision/225499191'>Video 4</a></li>\n",
    "</ol.c>"
   ]
  },
  {
   "cell_type": "markdown",
   "metadata": {},
   "source": [
    "<h1>Lesson 2</h1>\n",
    "<h2>Learning Outcomes</h2>\n",
    "<ol.c>\n",
    "    <li>Identify the decisions necessary to initiate a data analytics project.</li>\n",
    "    <li>Delineate clear outcomes and undefined outcomes of potential data analytics projects.\n",
    "</li>\n",
    "    <li>Define clear metrics, deliverables, and value that a data analytics project will provide to an organization.\n",
    "</li>\n",
    "    <li>Compare data types and sources that organizations often have available.\n",
    "</li>\n",
    "    <li>Define specific research questions and hypotheses based on organizational needs and available data.\n",
    "</li>\n",
    "    <li>Match available data types to the possible analytical approaches they enable.\n",
    "</li>\n",
    "</ol.c>\n",
    "\n",
    "<h2>Lesson 2 Video list</h2>\n",
    "<p>From Data Analytics for Business Professionals, watch the following sections and complete the chapter quizzes for the fourth video just watch the section:\n",
    "\n",
    "</p>\n",
    "<ol.c>\n",
    "    <li><a href='https://lrps.wgu.edu/provision/225428883'>Video 1</a>\n",
    "</li>\n",
    "    <li><a href='https://lrps.wgu.edu/provision/225429053'>Video 2</a>\n",
    "</li>\n",
    "    <li><a href='https://lrps.wgu.edu/provision/225429226'>Video 3</a></li>\n",
    "    <li><a href='https://lrps.wgu.edu/provision/225487676'>Video 4</a></li>\n",
    "</ol.c>\n"
   ]
  },
  {
   "cell_type": "code",
   "execution_count": null,
   "metadata": {},
   "outputs": [],
   "source": []
  }
 ],
 "metadata": {
  "kernelspec": {
   "display_name": "Python 3",
   "language": "python",
   "name": "python3"
  },
  "language_info": {
   "codemirror_mode": {
    "name": "ipython",
    "version": 3
   },
   "file_extension": ".py",
   "mimetype": "text/x-python",
   "name": "python",
   "nbconvert_exporter": "python",
   "pygments_lexer": "ipython3",
   "version": "3.8.3"
  },
  "toc": {
   "base_numbering": 1,
   "nav_menu": {},
   "number_sections": true,
   "sideBar": true,
   "skip_h1_title": false,
   "title_cell": "Table of Contents",
   "title_sidebar": "Contents",
   "toc_cell": true,
   "toc_position": {},
   "toc_section_display": true,
   "toc_window_display": true
  }
 },
 "nbformat": 4,
 "nbformat_minor": 4
}
