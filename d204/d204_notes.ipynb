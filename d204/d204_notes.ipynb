{
 "cells": [
  {
   "cell_type": "markdown",
   "metadata": {},
   "source": [
    "<div style='background-image:url(\"https://images.unsplash.com/photo-1495592822108-9e6261896da8?ixid=MXwxMjA3fDB8MHxzZWFyY2h8OXx8ZGF0YSUyMHNjaWVuY2V8ZW58MHx8MHw%3D&ixlib=rb-1.2.1&auto=format&fit=crop&w=500&q=60\"); height:800px; display:flex; text-align:center;'>\n",
    "\n",
    "<h1 style=\" color:#f5f5f5; font-size:35px; text-align:center; margin:auto auto;\">Notes From Video <br><a style=\"color:#f5f5f5;\" href='https://www.linkedin.com/learning/data-science-foundations-fundamentals-6'>LinkedIn Data Science Foundations Fundamentals</a></h1>\n",
    "</div>"
   ]
  },
  {
   "cell_type": "markdown",
   "metadata": {},
   "source": [
    "<h2>Supply and Demand of Data Scientists</h2>"
   ]
  },
  {
   "cell_type": "markdown",
   "metadata": {},
   "source": [
    "<p>The demand is far outpacing the supply when it comes to Data Science Professionals. With a constantly increasing demand and a stagnating supply data scientists are being highly rewarded for there skills with industry leading salaries and benefits that seek to attract and retain talented individuals.</p>\n",
    "\n",
    "<p>Data scientists can bring competitive advantages to orginazitions that choose to employ them. Bringing Business Intelligence a cutting edge analytics to the table that can vastly improve any orginazation.</p>"
   ]
  },
  {
   "cell_type": "markdown",
   "metadata": {},
   "source": [
    "## The data science Venn diagram"
   ]
  },
  {
   "cell_type": "markdown",
   "metadata": {},
   "source": [
    "<p>In 2013 Drew Conway proposed that substantive expertise, Mathematics, and hacking could be combined to a field of Data Science.</p>\n",
    "\n",
    "<p>Programming languages could be used for data manipulation and modeling. SQL Could be used as a query language that would allow for querying relational databases effectively and efficiently.</p>\n",
    "\n",
    "<p>Probability, linear algebra, calculus and regressuon could be used to fit data to your question and what procedures should be used to answer the question and know definitively why the results are what they are and what can be adjusted to get a better or different result.</p>\n",
    "\n",
    "<p>Substantive Expertise is simply knowledge of the domain and the goals, methods and constraints in the field. The expertise allow for an understanding of what constitutes value and how knowledge that is attained can ne implemented to improve.</p>"
   ]
  },
  {
   "cell_type": "markdown",
   "metadata": {},
   "source": [
    "<h2> The data science Pathway</h2>"
   ]
  },
  {
   "cell_type": "markdown",
   "metadata": {},
   "source": [
    "<h4>Planning:</h4>\n",
    "<ol>\n",
    "    <li>Define Goals</li>\n",
    "    <li>Organize Resources</li>\n",
    "    <li>Coordinate People</li>\n",
    "    <li>Scheduling</li>\n",
    "</ol>"
   ]
  },
  {
   "cell_type": "markdown",
   "metadata": {},
   "source": [
    "<p>Defining goals will let you know what needs to be accomplished and allow for you to know if you are on target or need to re-target.</p>\n",
    "\n",
    "<p>Organizing resources will ensure that the proper people and hardware are available.</p>\n",
    "\n",
    "<p>Coordinating people will ensure that the correct personal are there and available for the project.</p>\n",
    "\n",
    "<p>Scheduling will prevent scope creep and keep things on schedule and able to deliver the project.</p>\n",
    "\n"
   ]
  },
  {
   "cell_type": "markdown",
   "metadata": {},
   "source": [
    "<h3>Wrangling Data</h3>\n",
    "<ol>\n",
    "    <li>Get data </li>\n",
    "    <li>Clean data </li>\n",
    "    <li>Explore data </li>\n",
    "    <li>Refine data </li>\n",
    "</ol>"
   ]
  },
  {
   "cell_type": "markdown",
   "metadata": {},
   "source": [
    "<p>Getting the data that is either new, from open source, public apis etc</p>\n",
    "\n",
    "<p>Cleaning data is a very intesive process and an enormous task that gets the data ready so that it can fit into the paradigm and program that is be used with the data</p>\n",
    "\n",
    "<p>Exploring the data is where numerical summaries and data visualiztions are used to explore the data and gain insights</p>\n",
    "\n",
    "<p>Refining the data will allow for the data scientist to change or get new data to have a more complete data set for modeling the data.</p>"
   ]
  },
  {
   "cell_type": "markdown",
   "metadata": {},
   "source": [
    "<h2>Modeling</h2>\n",
    "<ol>\n",
    "    <li>Create Model</li>\n",
    "    <li>Validate Model</li>\n",
    "    <li>Evaluate Model</li>\n",
    "    <li>Refine Model</li>\n",
    "</ol>"
   ]
  },
  {
   "cell_type": "markdown",
   "metadata": {},
   "source": [
    "<p>Create the statistal mode, do regression, decision tree etc</p>\n",
    "<p>Validating the model will make sure that the model is reproducible and not a one off</p>\n",
    "<p>Evaluating and refining the model will allow a value assessment of the model that will tell you whether the model should be refined and give a chance to make tweaks and adjustments that will improve the model.  </p>"
   ]
  },
  {
   "cell_type": "markdown",
   "metadata": {},
   "source": [
    "<h2>Applying</h2>"
   ]
  },
  {
   "cell_type": "markdown",
   "metadata": {},
   "source": [
    "<ol>\n",
    "    <li>Present Model</li>\n",
    "    <li>Deploy Model</li>\n",
    "    <li>Revisit Model</li>\n",
    "    <li>Archive assets</li>\n",
    "</ol>"
   ]
  },
  {
   "cell_type": "markdown",
   "metadata": {},
   "source": [
    "<p>Show all of the stakeholders what you have found and learned</p>\n",
    "<p>Deploy to production and host it wherever applicable. Make available to customers</p>\n",
    "<p>Revisiting the model will allow to make a final analysis and a good chance to improve upon things learned</p>\n",
    "<p>Documenting the data and making things future proof so that it is easier to manage and the ROI is maximized</p>"
   ]
  },
  {
   "cell_type": "markdown",
   "metadata": {},
   "source": [
    "<h1>Roles and teams in data science</h1>"
   ]
  },
  {
   "cell_type": "markdown",
   "metadata": {},
   "source": [
    "<p>Engineers are the developers and system architects that make the foundation for everything that is available in the field of data science. They make the software and hardware that makes data science possible</p>\n",
    "\n",
    "<p>Machine learning specialists are people who have extensive computer science and mathematics abilities that allow them to do deep learnign and artificial intelligence</p>\n",
    "\n",
    "<p>Researchers are resposible for understanding topical areas that allow them to connect with data science so that they can answers questions in their fields of study. They often have statistical expertise.</p>\n",
    "\n",
    "<p>Data Analysts are responsible for the day to day data tasks that are neseccary for businesses to run. Web analytics, sql, visualization are for good business decision making and are the bread and butter of data analysts jobs.</p>\n",
    "\n",
    "<p>Managers manage data and science projects and need to be have a high level understanding of the different tools and people that are available to them so that they can deliver on projects.</p>\n",
    "\n",
    "<p>Entrepreneurs are often data startups or similar roles where a person possess the business accumen as well as all of the needed data skilsl to deliver a product </p>\n",
    "\n",
    "<p>Unicorn is a ninja or rockstar that know everything. They are rare and it is a better to have a redundancy than to depend on one person</p>"
   ]
  },
  {
   "cell_type": "markdown",
   "metadata": {},
   "source": [
    "<h1>Artificial Intelligence</h1>"
   ]
  },
  {
   "cell_type": "markdown",
   "metadata": {},
   "source": [
    "<p>Categories are constructs and they serve a functional purpose that is determined by its utility. Categories vary by need.</p>\n",
    "\n",
    "<p>Artificial Intelligence is something that computers can't do or something that normally requires humans. Artifical Intelligence can best be desribed as a program that learn and improve through repetition and trial and error.</p>\n",
    "\n",
    "<p>AI has made huge leaps in translations and has made translations make massive leaps over the recent couple years</p>\n",
    "\n",
    "<p>AI is usually referring to machine learning algorithims and deep learning networks.</p>\n",
    "<p>Strong or General AI is a replica of teh human brain that can solve any cognitive task. While Weak or Narrow AI is algorithm that work on one specific well defined task like identifying pictures. </p>\n",
    "\n",
    "<p><strong>AI and machine learning have a broad overlap and AI always involves the data science skillset, but there is a huge amount of data science that does not involve artificial intelligence. See Figure below.</strong></p>"
   ]
  },
  {
   "cell_type": "markdown",
   "metadata": {},
   "source": [
    "<div style=\"height:400px; background-image: url('https://qph.fs.quoracdn.net/main-qimg-a98a14d954c1b0e4407e191f8a5b9445'); background-repeat:no-repeat;\">\n",
    "</div>"
   ]
  },
  {
   "cell_type": "code",
   "execution_count": null,
   "metadata": {},
   "outputs": [],
   "source": []
  }
 ],
 "metadata": {
  "kernelspec": {
   "display_name": "Python 3",
   "language": "python",
   "name": "python3"
  },
  "language_info": {
   "codemirror_mode": {
    "name": "ipython",
    "version": 3
   },
   "file_extension": ".py",
   "mimetype": "text/x-python",
   "name": "python",
   "nbconvert_exporter": "python",
   "pygments_lexer": "ipython3",
   "version": "3.8.3"
  }
 },
 "nbformat": 4,
 "nbformat_minor": 4
}
