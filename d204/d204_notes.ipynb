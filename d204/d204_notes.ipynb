{
 "cells": [
  {
   "cell_type": "markdown",
   "metadata": {},
   "source": [
    "<div style='background-image:url(\"https://images.unsplash.com/photo-1495592822108-9e6261896da8?ixid=MXwxMjA3fDB8MHxzZWFyY2h8OXx8ZGF0YSUyMHNjaWVuY2V8ZW58MHx8MHw%3D&ixlib=rb-1.2.1&auto=format&fit=crop&w=500&q=60\"); height:800px; display:flex; text-align:center;'>\n",
    "\n",
    "<h1 style=\" color:#f5f5f5; font-size:35px; text-align:center; margin:auto auto;\">Notes From Video <br><a style=\"color:#f5f5f5;\" href='https://www.linkedin.com/learning/data-science-foundations-fundamentals-6'>LinkedIn Data Science Foundations Fundamentals</a></h1>\n",
    "</div>"
   ]
  },
  {
   "cell_type": "markdown",
   "metadata": {},
   "source": [
    "## Supply and Demand"
   ]
  },
  {
   "cell_type": "markdown",
   "metadata": {},
   "source": [
    "The demand is far outpacing the supply when it comes to Data Science Professionals. With a constantly increasing demand and a stagnating supply data scientists are being highly rewarded for there skills with industry leading salaries and benefits that seek to attract and retain talented individuals.\n",
    "\n",
    "Data scientists can bring competitive advantages to orginazitions that choose to employ them. Bringing Business Intelligence a cutting edge analytics to the table that can vastly improve any orginazation."
   ]
  },
  {
   "cell_type": "code",
   "execution_count": null,
   "metadata": {},
   "outputs": [],
   "source": []
  },
  {
   "cell_type": "code",
   "execution_count": null,
   "metadata": {},
   "outputs": [],
   "source": []
  },
  {
   "cell_type": "code",
   "execution_count": null,
   "metadata": {},
   "outputs": [],
   "source": []
  }
 ],
 "metadata": {
  "kernelspec": {
   "display_name": "Python 3",
   "language": "python",
   "name": "python3"
  },
  "language_info": {
   "codemirror_mode": {
    "name": "ipython",
    "version": 3
   },
   "file_extension": ".py",
   "mimetype": "text/x-python",
   "name": "python",
   "nbconvert_exporter": "python",
   "pygments_lexer": "ipython3",
   "version": "3.8.3"
  }
 },
 "nbformat": 4,
 "nbformat_minor": 4
}
