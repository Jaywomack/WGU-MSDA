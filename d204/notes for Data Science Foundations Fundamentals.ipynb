{
 "cells": [
  {
   "cell_type": "markdown",
   "metadata": {
    "toc": true
   },
   "source": [
    "<h1>Table of Contents<span class=\"tocSkip\"></span></h1>\n",
    "<div class=\"toc\"><ul class=\"toc-item\"><li><ul class=\"toc-item\"><li><span><a href=\"#Notes-From-Video-LinkedIn-Data-Science-Foundations-Fundamentals\" data-toc-modified-id=\"Notes-From-Video-LinkedIn-Data-Science-Foundations-Fundamentals-0.1\"><span class=\"toc-item-num\">0.1&nbsp;&nbsp;</span>Notes From Video <br><a style=\"color: #f5f5f5\" href=\"https://www.linkedin.com/learning/data-science-foundations-fundamentals-6\" target=\"_blank\">LinkedIn Data Science Foundations Fundamentals</a></a></span></li></ul></li><li><span><a href=\"#Vocabulary-and-Terminology\" data-toc-modified-id=\"Vocabulary-and-Terminology-1\"><span class=\"toc-item-num\">1&nbsp;&nbsp;</span>Vocabulary and Terminology</a></span><ul class=\"toc-item\"><li><span><a href=\"#The-Data-Analysis-Life-Cycle:\" data-toc-modified-id=\"The-Data-Analysis-Life-Cycle:-1.1\"><span class=\"toc-item-num\">1.1&nbsp;&nbsp;</span>The Data Analysis Life Cycle:</a></span></li><li><span><a href=\"#Project-Management:\" data-toc-modified-id=\"Project-Management:-1.2\"><span class=\"toc-item-num\">1.2&nbsp;&nbsp;</span>Project Management:</a></span></li><li><span><a href=\"#Types-of-Analysis:\" data-toc-modified-id=\"Types-of-Analysis:-1.3\"><span class=\"toc-item-num\">1.3&nbsp;&nbsp;</span>Types of Analysis:</a></span></li><li><span><a href=\"#More-Vocabulary-and-concepts-to-know:\" data-toc-modified-id=\"More-Vocabulary-and-concepts-to-know:-1.4\"><span class=\"toc-item-num\">1.4&nbsp;&nbsp;</span>More Vocabulary and concepts to know:</a></span></li><li><span><a href=\"#Tools-to-know:\" data-toc-modified-id=\"Tools-to-know:-1.5\"><span class=\"toc-item-num\">1.5&nbsp;&nbsp;</span>Tools to know:</a></span></li><li><span><a href=\"#Legal/Ethical-terms:\" data-toc-modified-id=\"Legal/Ethical-terms:-1.6\"><span class=\"toc-item-num\">1.6&nbsp;&nbsp;</span>Legal/Ethical terms:</a></span></li></ul></li><li><span><a href=\"#What-is-Data-Science\" data-toc-modified-id=\"What-is-Data-Science-2\"><span class=\"toc-item-num\">2&nbsp;&nbsp;</span>What is Data Science</a></span><ul class=\"toc-item\"><li><span><a href=\"#Supply-and-Demand-of-Data-Scientists\" data-toc-modified-id=\"Supply-and-Demand-of-Data-Scientists-2.1\"><span class=\"toc-item-num\">2.1&nbsp;&nbsp;</span>Supply and Demand of Data Scientists</a></span></li><li><span><a href=\"#The-data-science-Venn-diagram\" data-toc-modified-id=\"The-data-science-Venn-diagram-2.2\"><span class=\"toc-item-num\">2.2&nbsp;&nbsp;</span>The data science Venn diagram</a></span></li><li><span><a href=\"#-The-Data-Science-Pathway\" data-toc-modified-id=\"-The-Data-Science-Pathway-2.3\"><span class=\"toc-item-num\">2.3&nbsp;&nbsp;</span> The Data Science Pathway</a></span><ul class=\"toc-item\"><li><span><a href=\"#Planning:\" data-toc-modified-id=\"Planning:-2.3.1\"><span class=\"toc-item-num\">2.3.1&nbsp;&nbsp;</span>Planning:</a></span></li><li><span><a href=\"#Wrangling-Data\" data-toc-modified-id=\"Wrangling-Data-2.3.2\"><span class=\"toc-item-num\">2.3.2&nbsp;&nbsp;</span>Wrangling Data</a></span></li><li><span><a href=\"#Modeling\" data-toc-modified-id=\"Modeling-2.3.3\"><span class=\"toc-item-num\">2.3.3&nbsp;&nbsp;</span>Modeling</a></span></li><li><span><a href=\"#Applying\" data-toc-modified-id=\"Applying-2.3.4\"><span class=\"toc-item-num\">2.3.4&nbsp;&nbsp;</span>Applying</a></span></li></ul></li><li><span><a href=\"#Roles-and-teams-in-data-science\" data-toc-modified-id=\"Roles-and-teams-in-data-science-2.4\"><span class=\"toc-item-num\">2.4&nbsp;&nbsp;</span>Roles and teams in data science</a></span></li></ul></li><li><span><a href=\"#The-Place-of-Data-Science-in-the-Data-Universe\" data-toc-modified-id=\"The-Place-of-Data-Science-in-the-Data-Universe-3\"><span class=\"toc-item-num\">3&nbsp;&nbsp;</span>The Place of Data Science in the Data Universe</a></span><ul class=\"toc-item\"><li><span><a href=\"#Artificial-Intelligence\" data-toc-modified-id=\"Artificial-Intelligence-3.1\"><span class=\"toc-item-num\">3.1&nbsp;&nbsp;</span>Artificial Intelligence</a></span></li><li><span><a href=\"#Machine-learning\" data-toc-modified-id=\"Machine-learning-3.2\"><span class=\"toc-item-num\">3.2&nbsp;&nbsp;</span>Machine learning</a></span></li><li><span><a href=\"#Deep-learning-and-neural-networks\" data-toc-modified-id=\"Deep-learning-and-neural-networks-3.3\"><span class=\"toc-item-num\">3.3&nbsp;&nbsp;</span>Deep learning and neural networks</a></span></li><li><span><a href=\"#Big-Data\" data-toc-modified-id=\"Big-Data-3.4\"><span class=\"toc-item-num\">3.4&nbsp;&nbsp;</span>Big Data</a></span></li><li><span><a href=\"#Predictive-Analytics\" data-toc-modified-id=\"Predictive-Analytics-3.5\"><span class=\"toc-item-num\">3.5&nbsp;&nbsp;</span>Predictive Analytics</a></span></li><li><span><a href=\"#Prescriptive-analytics\" data-toc-modified-id=\"Prescriptive-analytics-3.6\"><span class=\"toc-item-num\">3.6&nbsp;&nbsp;</span>Prescriptive analytics</a></span></li><li><span><a href=\"#Business-Intelligence\" data-toc-modified-id=\"Business-Intelligence-3.7\"><span class=\"toc-item-num\">3.7&nbsp;&nbsp;</span>Business Intelligence</a></span></li></ul></li><li><span><a href=\"#Ethics-and-Agency\" data-toc-modified-id=\"Ethics-and-Agency-4\"><span class=\"toc-item-num\">4&nbsp;&nbsp;</span>Ethics and Agency</a></span><ul class=\"toc-item\"><li><span><a href=\"#Legal,-ethical-and-social-issues-of-data-science\" data-toc-modified-id=\"Legal,-ethical-and-social-issues-of-data-science-4.1\"><span class=\"toc-item-num\">4.1&nbsp;&nbsp;</span>Legal, ethical and social issues of data science</a></span></li><li><span><a href=\"#Agency-of-algorithms-and-decision-making\" data-toc-modified-id=\"Agency-of-algorithms-and-decision-making-4.2\"><span class=\"toc-item-num\">4.2&nbsp;&nbsp;</span>Agency of algorithms and decision making</a></span></li></ul></li><li><span><a href=\"#Sources-of-Data\" data-toc-modified-id=\"Sources-of-Data-5\"><span class=\"toc-item-num\">5&nbsp;&nbsp;</span>Sources of Data</a></span><ul class=\"toc-item\"><li><span><a href=\"#Data-Preparation\" data-toc-modified-id=\"Data-Preparation-5.1\"><span class=\"toc-item-num\">5.1&nbsp;&nbsp;</span>Data Preparation</a></span></li></ul></li></ul></div>"
   ]
  },
  {
   "cell_type": "markdown",
   "metadata": {},
   "source": [
    "<div style='background-image:url(\"https://images.unsplash.com/photo-1495592822108-9e6261896da8?ixid=MXwxMjA3fDB8MHxzZWFyY2h8OXx8ZGF0YSUyMHNjaWVuY2V8ZW58MHx8MHw%3D&ixlib=rb-1.2.1&auto=format&fit=crop&w=500&q=60\"); height:800px; display:flex; text-align:center;'>\n",
    "\n",
    "<h2 style=\" color:#f5f5f5; font-size:35px; text-align:center; margin:auto auto;\">Notes From Video <br><a style=\"color:#f5f5f5;\" href='https://www.linkedin.com/learning/data-science-foundations-fundamentals-6'>LinkedIn Data Science Foundations Fundamentals</a></h2>\n",
    "</div>"
   ]
  },
  {
   "cell_type": "markdown",
   "metadata": {},
   "source": [
    "<h1>Vocabulary and Terminology</h1>"
   ]
  },
  {
   "cell_type": "markdown",
   "metadata": {},
   "source": [
    "<h2>The Data Analysis Life Cycle:</h2>\n",
    "<p>Discovery – defining the business reason that any analysis is needed. Working with stakeholders to help them ask better questions so that both they and you understand the outcome. Do you have the data you need to answer this question? If not, is there another way to accomplish it with what you do have?</p>\n",
    "<p>Acquisition – Getting the data from various sources and cleaning it. This is the most labor-intensive phase.</p> \n",
    "<p>Exploration- now that the data is cleaned, you can begin to familiarize yourself with it. Making histograms and generally understanding what is included.</p>\n",
    "<p>Data Mining – find patterns and insights. Find correlations and test hypothesis.</p>\n",
    "<p>Predictive Modeling – taking those insights and making them operational so as to predict future outcomes.</p>\n",
    "\n",
    "<h2>Project Management:</h2>\n",
    "<p>The project sponsor is the person who champions the vision of the project and has the authority to allocate resources.</p>\n",
    "<p>The project manger is responsible for making sure things get done on time and within budget and removes roadblocks.</p>\n",
    "<p>Scope creep is when new requirements are added to the project that increases the time/resources needed to complete it.</p>\n",
    "\n",
    "<h2>Types of Analysis:</h2>\n",
    "<p>Descriptive: Describes the data that is present. Mean, Median, Mode, counting things. How many of each size and color of shirt were sold in the last month? Do we sell more shirts in the summer vs winter?</p>\n",
    "<p>Predictive: Makes predictions about future state of business. Forecasting volumes for example. Based on last summer and winter, what will we sell next year?</p>\n",
    "<p>Prescriptive: Analysis with an end goal of making a recommendation. What colors and sizes of shirts should we sell to maximize profits?</p>\n",
    "\n",
    "<h2>More Vocabulary and concepts to know:</h2>\n",
    "<p>-Central Limit theorem: There are tons of videos on the internet that can explain better than I can, but the idea is that even if you have a wide spread of a variable, lets say, age in a population, and you take lots of sample groups, the mean age of those sample groups would tend to have a normal distribution. In other words, if you were to take 50 people out of that population and get the mean, then take another 50 random people and get their mean age, and so forth, all of those means would follow the normal distribution (bell curve).</p>\n",
    "<p>-Nearest Neighbors these types of algorithms are used in classification models (taking rows in a dataset and classifying them into groups). Again, the internet is full of likely better explanations but basically think of it as data points on a scatter plot. Based on the distance and similarity of those points, you can group them together.</p>\n",
    "<p>-Time series analysis is just looking at any variable over time</p>\n",
    "<p>-Optimization is figuring out what value a variable should have given certain conditions or restraints. Like the price of lemonade given you only have x amount of lemons, y amount of sugar, z amount of cups all at a certain price.</p>\n",
    "<p>-Look over Bayes Theorem in the text if you have not learned about it before. They give an example of how to figure out if you are given a positive test for a certain medical condition, how likely is it that it is really a true positive vs. a false positive.</p>\n",
    "\n",
    "<h2>Tools to know:</h2>\n",
    "<p>-SQL is the language you can use to get data out of a warehouse.</p>\n",
    "<p>-R is a programing language that is specific to statistics. It also has capabilities to visualize data.</p>\n",
    "<p>-Python is a multipurpose programing language that has libraries that extend its capabilities to do statistical analysis.</p>\n",
    "<p>-Tableau and Power BI are platforms that specialize in visualization. This is where you can make graphs and charts for presentations and data storytelling to executive leaders.</p>\n",
    "<p>-Teams, Slack – these are instant messaging platforms that facilitate in a faster, but less formal, way than email.</p>\n",
    "\n",
    "<h2>Legal/Ethical terms:</h2>\n",
    "<p>-GDPR – European union law regulating their citizens must have informed consent and ability to request or delete their own data that you collect.</p>\n",
    "<p>-Conflict of interest: When the researching organization consciously ignores data that calls their results into question or only presents one side of the results that puts them in a positive light.</p>"
   ]
  },
  {
   "cell_type": "markdown",
   "metadata": {},
   "source": [
    "<h1>What is Data Science</h1>"
   ]
  },
  {
   "cell_type": "markdown",
   "metadata": {},
   "source": [
    "<h2>Supply and Demand of Data Scientists</h2>"
   ]
  },
  {
   "cell_type": "markdown",
   "metadata": {},
   "source": [
    "<p>The demand is far outpacing the supply when it comes to Data Science Professionals. With a constantly increasing demand and a stagnating supply data scientists are being highly rewarded for there skills with industry leading salaries and benefits that seek to attract and retain talented individuals.</p>\n",
    "\n",
    "<p>Data scientists can bring competitive advantages to orginazitions that choose to employ them. Bringing Business Intelligence a cutting edge analytics to the table that can vastly improve any orginazation.</p>"
   ]
  },
  {
   "cell_type": "markdown",
   "metadata": {},
   "source": [
    "## The data science Venn diagram"
   ]
  },
  {
   "cell_type": "markdown",
   "metadata": {},
   "source": [
    "<p>In 2013 Drew Conway proposed that substantive expertise, Mathematics, and hacking could be combined into the field of Data Science.</p>\n",
    "\n",
    "<p>Programming languages could be used for data manipulation, cleaning and modeling. SQL Could be used as a query language that would allow for querying relational databases effectively and efficiently.</p>\n",
    "\n",
    "<p>Probability, linear algebra, calculus and regression could be used to fit data to your question and what procedures should be used to answer the question and know definitively why the results are what they are and what can be adjusted to get a better or different result.</p>\n",
    "\n",
    "<p>Substantive Expertise is simply knowledge of the domain and the goals, methods and constraints in that respective field. The expertise allow for an understanding of what constitutes value and how knowledge that is attained can be implemented to improve.</p>"
   ]
  },
  {
   "cell_type": "markdown",
   "metadata": {},
   "source": [
    "<h2> The Data Science Pathway</h2>\n",
    "\n",
    "<h3>Planning:</h3>\n",
    "<ol>\n",
    "    <li>Define Goals</li>\n",
    "    <li>Organize Resources</li>\n",
    "    <li>Coordinate People</li>\n",
    "    <li>Scheduling</li>\n",
    "</ol>\n",
    "\n",
    "<p>Defining goals will let you know what needs to be accomplished and allow for you to know if you are on target or need to re-target.</p>\n",
    "\n",
    "<p>Organizing resources will ensure that the proper people and hardware are available.</p>\n",
    "\n",
    "<p>Coordinating people will ensure that the correct personal are there and available for the project.</p>\n",
    "\n",
    "<p>Scheduling will prevent scope creep and keep things on schedule and able to deliver the project.</p>\n",
    "\n",
    "\n",
    "\n",
    "<h3>Wrangling Data</h3>\n",
    "<ol>\n",
    "    <li>Get data </li>\n",
    "    <li>Clean data </li>\n",
    "    <li>Explore data </li>\n",
    "    <li>Refine data </li>\n",
    "</ol>\n",
    "\n",
    "<p>Getting the data that is either new, from open source, public API's etc</p>\n",
    "\n",
    "<p>Cleaning data is a very intensive process and an enormous task that gets the data ready so that it can fit into the paradigm and program that is to be used with the data</p>\n",
    "\n",
    "<p>Exploring the data is where numerical summaries and data visualizations are used to explore the data and gain insights</p>\n",
    "\n",
    "<p>Refining the data will allow for the data scientist to change or get new data to have a more complete data set for modeling the data.</p>\n",
    "\n",
    "<h3>Modeling</h3>\n",
    "<ol>\n",
    "    <li>Create Model</li>\n",
    "    <li>Validate Model</li>\n",
    "    <li>Evaluate Model</li>\n",
    "    <li>Refine Model</li>\n",
    "</ol>\n",
    "\n",
    "<p>Create the statistical model, do regression, decision tree etc</p>\n",
    "<p>Validating the model will make sure that the model is reproducible and not a one off</p>\n",
    "<p>Evaluating and refining the model will allow a value assessment of the model that will tell whether the model should be refined and give a chance to make tweaks and adjustments that will improve the model.  </p>\n",
    "\n",
    "<h3>Applying</h3>\n",
    "\n",
    "<ol>\n",
    "    <li>Present Model</li>\n",
    "    <li>Deploy Model</li>\n",
    "    <li>Revisit Model</li>\n",
    "    <li>Archive assets</li>\n",
    "</ol>\n",
    "\n",
    "<p>Show all of the stakeholders what you have found and learned</p>\n",
    "<p>Deploy to production and host it wherever applicable. Make available to customers and stakeholders</p>\n",
    "<p>Revisiting the model will allow to make a final analysis and a good chance to improve upon things learned</p>\n",
    "<p>Documenting the data and making things future proof so that it is easier to manage and the ROI is maximized</p>"
   ]
  },
  {
   "cell_type": "markdown",
   "metadata": {},
   "source": [
    "<h2>Roles and teams in data science</h2>\n",
    "\n",
    "<p>Engineers are the developers and system architects that make the foundation for everything that is available in the field of data science. They make the software and hardware that makes data science possible</p>\n",
    "\n",
    "<p>Machine learning specialists are people who have extensive computer science and mathematics abilities that allow them to do deep learning and artificial intelligence</p>\n",
    "\n",
    "<p>Researchers are responsible for understanding topical areas that allow them to connect with data science so that they can answers questions in their fields of study. They often have statistical expertise.</p>\n",
    "\n",
    "<p>Data Analysts are responsible for the day to day data tasks that are necessary for businesses to run. Web analytics, SQL, visualization are for good business decision making and are the bread and butter of data analysts jobs.</p>\n",
    "\n",
    "<p>Managers manage data and science projects and need to have a high level understanding of the different tools and human capital that are available to them so that they can deliver on projects.</p>\n",
    "\n",
    "<p>Entrepreneurs are often data startups or similar roles where a person possesses the business acumen as well as all of the needed data science skills to deliver a product </p>\n",
    "\n",
    "<p>A Unicorn is a ninja or rock star that knows everything. They are rare and it is a better to have a redundancy than to depend on one person</p>"
   ]
  },
  {
   "cell_type": "markdown",
   "metadata": {},
   "source": [
    "<h1>The Place of Data Science in the Data Universe</h1>"
   ]
  },
  {
   "cell_type": "markdown",
   "metadata": {},
   "source": [
    "<h2>Artificial Intelligence</h2>\n",
    "\n",
    "<p>Categories are constructs and they serve a functional purpose that is determined by their utility. Categories vary by need.</p>\n",
    "\n",
    "<p>Artificial Intelligence is something that computers can't do or something that normally requires humans. Artificial Intelligence can best be described as a program that learns and improves through repetition and by trial and error.</p>\n",
    "\n",
    "<p>AI has made huge leaps in translations and has made translating languages make massive leaps over the recent couple years</p>\n",
    "\n",
    "<p>AI is usually referring to machine learning algorithm and deep learning networks.</p>\n",
    "<p>Strong or General AI is a replica of the human brain that can solve any cognitive task. While Weak or Narrow AI is an algorithm that works on one specific well defined task, like identifying pictures. </p>\n",
    "\n",
    "<p><strong>AI and machine learning have a broad overlap and AI always involves the data science skill set, but there is a huge amount of data science that does not involve artificial intelligence. See Figure below.</strong></p>"
   ]
  },
  {
   "cell_type": "markdown",
   "metadata": {},
   "source": [
    "<div style=\"height:400px; background-image: url('https://qph.fs.quoracdn.net/main-qimg-a98a14d954c1b0e4407e191f8a5b9445'); background-repeat:no-repeat;\">\n",
    "</div>"
   ]
  },
  {
   "cell_type": "markdown",
   "metadata": {},
   "source": [
    "<h2>Machine learning</h2>\n",
    "\n",
    "<p>The ability for machines to learn from data and improve</p>\n",
    "<p>For humans memorization is hard but seeing patterns and reacting to new situations is easy.</p>\n",
    "<p>For Machines memorization is easy, but spotting patterns and new situations can be extremely challenging for machines</p>\n",
    "<p>Machine learning can be noticed in spam filters, image identification and the translation of languages which is getting better and better by the day.</p>\n",
    "<p> Machine learning is best completed by training machines by showing an algorithm millions of examples so that the algorithm can find its own distinctive features. These features may not be visible or even relevant to humans. Algorithms can notice very subtle things that humans do not.</p>\n",
    "<p>Once a machine has been taught; a neural network can be used in conjunction because of the advances in computing power and labeled data (mostly from social media). These neural networks take information and process it so that computations can be made that allow for abstract thought and learning by machines.</p>\n",
    "\n",
    "<p>Data Science without machine learning can use traditional classification, predictive models, and sentiment analysis; machine learning is not nearly as useful without data science. Machine learning should be thought of as a subset of data science.</p>"
   ]
  },
  {
   "cell_type": "markdown",
   "metadata": {},
   "source": [
    "<h2>Deep learning and neural networks</h2>\n",
    "\n",
    "<p>Neural networks that improve with small amounts of data can eventually become extremely powerful with linear progression over time.</p>\n",
    "<p>Input in the form of raw data gets passed along to one or more hidden networks before it is finally output from an output layer.</p>\n",
    "<div style='margin-top:25px; height:600px; background-image: url(\"https://groupfuturista.com/blog/wp-content/uploads/2019/03/Artificial-Neural-Networks-Man-vs-Machine-735x400.jpeg\"); background-repeat:no-repeat;'></div>\n",
    "\n",
    "<p><strong>Inference</strong></p>\n",
    "<p>Inference is using methods that psychological methods similar to those psychologists use on humans. </p>\n",
    "<p>There are some legal issues that have to do with peoples rights to know when a neural network has denied them something such as a loan. It is essential to have an understanding of legal matters as it relates to data and what is done with that data.</p>"
   ]
  },
  {
   "cell_type": "markdown",
   "metadata": {},
   "source": [
    "<h2>Big Data</h2>\n",
    "<p>Big Data can be characterized by all or any of the following:</p>\n",
    "<ol>\n",
    "    <li>Unusual volume</li>\n",
    "    <li>Unusual velocity</li>\n",
    "    <li>Unusual variety</li>\n",
    "</ol>\n",
    "\n",
    "<p>The amount of volume of data from transactions, consumer loyalty programs, GPS, scientific data and social media as  well as numerous other sources have created an overwhelming amount of data that has forced innovation with new technologies to be able to deal with the sheer amount of data, one of these technologies is distributed file systems like Hadoop.</p>\n",
    "<p>The velocity of data is coming in at an alarming pace and new methods and technologies are constantly being created and improved to deal with the velocity of the data.</p>\n",
    "<p>The variety of data has continued to increase with multimedia data, biometrics, graph data from social networks and the IOT.</p>\n",
    "\n",
    "<p>Big data can be done without data science as long as it is structured and simple. Data Science without Big data is also possible with programming aptitude and the ability to sort and clean data.</p>\n",
    "<p>Big data isn't dead. Its just become so common;  big data is so integrated in data science that it has become the norm, and big data sets are regularly accepted and technologies exist to deal with them effectively.</p>\n"
   ]
  },
  {
   "cell_type": "markdown",
   "metadata": {},
   "source": [
    "<h2>Predictive Analytics</h2>\n",
    "<p>Using data to predict outcomes.</p>\n",
    "<p>Makes predictions about future state of business. Forecasting volumes for example. Based on last summer and winter, what will we sell next year?</p>\n",
    "<p>Clicks and purchases, risk of disease and classification of photos are large parts of predictive analytics. Large amounts of predictive analytics are done by data scientists. Complicated data sets are going to normally require data science to solve the problems that are presented.</p>\n",
    "<p>If data is common, clean, or quantitative in nature then it can potentially be analyzed without data science.</p>\n",
    "<p>Data science without prediction can be done when clustering cases, counting, mapping or doing data visualization.</p>"
   ]
  },
  {
   "cell_type": "markdown",
   "metadata": {},
   "source": [
    "<h2>Prescriptive analytics</h2>\n",
    "<p>Cause and effect should have a observed correlation where the effect is more likely when the cause is present. Temporal precedence is where the cause needs to happen before the effect; and finally there needs to be no other explanations to the effect. It is impossible to remove any chance that something else is causing the effect, so the goal is to get as close as possible. </p>\n",
    "<p>The gold standard for establishing cause and effect is a randomized controlled trial. When the gold standard isn't possible other things such as what-if simulations, optimization models, cross-lag correlations and an entire category of quasi-experiments can be use to try to establish causation and correlation.</p>\n",
    "<p>To prove causation iteration is critical to show that a cause and effect is reproducible.</p>\n",
    "<p>Causality in theory is impossible but you can get close enough with prescriptive analytics that many extremely useful insights and decisions can be made from the data that will make a company much more valuable than if it were missing the information.</p>"
   ]
  },
  {
   "cell_type": "markdown",
   "metadata": {},
   "source": [
    "<h2>Business Intelligence</h2>\n",
    "<p>BI methods are meant to increase speed and accessibility and often rely on structured dashboards that can show analytics and real time data that is easy visualized.</p>\n",
    "<p>Data science is integral in collection and cleaning of data as well as model outcomes to make sense of the data and finally find trends and anomalies within the data. </p>\n",
    "<p>Data science makes business intelligence possible. Business intelligence in turn gives purpose to data science and is great to show the real need and usefulness of data science and what it can do to improve business and the world.</p>"
   ]
  },
  {
   "cell_type": "markdown",
   "metadata": {},
   "source": [
    "<h1>Ethics and Agency</h1>"
   ]
  },
  {
   "cell_type": "markdown",
   "metadata": {},
   "source": [
    "<h2>Legal, ethical and social issues of data science</h2>\n",
    "<p>GDPR General data protection regulation is a EU law that protects data and has substantial fines for violators.</p>\n",
    "<p>HIPAA and FERPA are American laws that protect consumers data and other rights and its important to not violate them</p>\n",
    "<p>Ethical issues have to do with fairness, equity and justice. These issues might not be of a legal nature but the reputation of the worker and the company are at risk and on the line</p>\n",
    "<p>Social issues are important. Companies need to engage with people with respect so that people do not feel violated or abused by you or your companies procedures. </p>"
   ]
  },
  {
   "cell_type": "markdown",
   "metadata": {},
   "source": [
    "<h2>Agency of algorithms and decision making</h2>\n",
    "<p>An algorithm makes a recommendation from processing your data like online shopping that makes purchase suggestions based on what you like or have bought before. Another is news feeds based on what you have read before. Maps and your location history is also used to give recommendations </p>\n",
    "<p>Human in the loop is like self driving cars but the human is there to take over just in case</p>\n",
    "<p>Human accessible decision making like online mortgages are accessible to humans but ran on its own, people need to be able to understand why the algorithm made its decision so that they are involved.</p>\n",
    "<p>Machine centric is like the internet of things. These devices communicate with one another and do many things in peoples lives.</p>"
   ]
  },
  {
   "cell_type": "markdown",
   "metadata": {},
   "source": [
    "<h1>Sources of Data</h1>"
   ]
  },
  {
   "cell_type": "markdown",
   "metadata": {},
   "source": [
    "<h2>Data Preparation</h2>\n",
    "<p>80% of time is spent getting data prepared for analysis. If you use garbage data you will get garbage analysis. It is often thought that if data were clean that simpler methods could be used for analysis.</p>\n",
    "<p>Tidy data is a process where: each column should = a variable, each row should - a case, there should be sheet per file, and there should be one level of observation.</p>"
   ]
  }
 ],
 "metadata": {
  "kernelspec": {
   "display_name": "Python 3",
   "language": "python",
   "name": "python3"
  },
  "language_info": {
   "codemirror_mode": {
    "name": "ipython",
    "version": 3
   },
   "file_extension": ".py",
   "mimetype": "text/x-python",
   "name": "python",
   "nbconvert_exporter": "python",
   "pygments_lexer": "ipython3",
   "version": "3.8.3"
  },
  "toc": {
   "base_numbering": 1,
   "nav_menu": {},
   "number_sections": true,
   "sideBar": true,
   "skip_h1_title": false,
   "title_cell": "Table of Contents",
   "title_sidebar": "Contents",
   "toc_cell": true,
   "toc_position": {
    "height": "calc(100% - 180px)",
    "left": "10px",
    "top": "150px",
    "width": "286.797px"
   },
   "toc_section_display": true,
   "toc_window_display": true
  }
 },
 "nbformat": 4,
 "nbformat_minor": 4
}
